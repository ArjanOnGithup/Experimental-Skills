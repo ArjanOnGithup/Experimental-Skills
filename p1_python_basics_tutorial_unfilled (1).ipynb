{
 "cells": [
  {
   "cell_type": "markdown",
   "metadata": {
    "id": "3oLyRQzNofJw"
   },
   "source": [
    "The first part of the introduction to python is based on the following GitHub repository: https://github.com/schwallergroup/ai4chem_course"
   ]
  },
  {
   "cell_type": "markdown",
   "metadata": {
    "id": "zPIotGcc8ya3"
   },
   "source": [
    "# Week 1: Basics in Python I and Regression\n",
    "\n",
    "Some of you might have only little experience with Python and Jupyter notebooks. This introductory tutorial will help you to get started. If you think that this tutorial is too basic, feel free to jump immediately to the exercise about linear regression.\n",
    "\n",
    "## Jupyter notebooks\n",
    "\n",
    "\n",
    "Jupyter notebooks are web-based interactive computing platforms that allow you to create and share documents that contain live code, equations, visualizations and narrative text. They are commonly used for data analysis, scientific computing, and machine learning. Here are some steps to get started with Jupyter notebooks:\n",
    "\n",
    "- Running code: In a Jupyter notebook, you can write and run code in cells. To run a cell, simply click on it and press `Shift + Enter` or click the \"Run\" button in the toolbar.\n",
    "\n",
    "- Markdown cells: In addition to code cells, you can also create Markdown cells to write descriptive text. You can format the text using Markdown syntax to add headings, lists, links, etc..\n",
    "\n",
    "- Saving and exporting: To save your notebook, click on the \"Save\" button in the toolbar. Jupyter notebooks have the extension `.ipynb` and can be exported to other formats like HTML, PDF, etc.\n",
    "\n",
    "- Keyboard Shortcuts: Jupyter notebooks have several keyboard shortcuts that can make your work faster and more efficient. For example, you can press `Esc` to enter command mode and `Enter` to enter edit mode. The most frequently used Keyboard Shortcuts are: `b` for creating a cell `b`elow the current cell, `a` for creating a cell `a`bove the current cell, `dd` for deleting the current cell.\n",
    "\n",
    "## Google Colab\n",
    "\n",
    "Colab allows you to use Jupyter notebooks with others without having to download, install, or set up anything. It also offers you decent computational resources for free."
   ]
  },
  {
   "cell_type": "markdown",
   "metadata": {
    "id": "t0ds41zdi5_D"
   },
   "source": [
    "## Introduction to Python I\n",
    "\n",
    "Here is a brief overview of the basic concepts you will need in Python. Look at the code cells provided, run them, inspect the output and make modifications to them. If you do not have too much experience with Python, we strongly recommend you to go through the tips at the end of this notebook.\n",
    "\n",
    "### Variables\n",
    "\n",
    "Variables are used to store values in a program. You can assign values to variables using the `=` operator. For example (you can run it using `SHIFT + ENTER` or clicking on `Run`):"
   ]
  },
  {
   "cell_type": "code",
   "execution_count": null,
   "metadata": {
    "id": "sERwHg68i5_I"
   },
   "outputs": [],
   "source": [
    "x = 5 # assign 5 to the variable x\n",
    "y = 10 # assign 10 to the variable y\n",
    "z = x + y # add x and y, and assign the value to z\n",
    "print(z) # Output: 15"
   ]
  },
  {
   "cell_type": "markdown",
   "metadata": {
    "id": "BZZFfp1Si5_L"
   },
   "source": [
    "### Data Types\n",
    "\n",
    "Python has several built-in data types, including numbers (integer, float), strings, lists, tuples, and dictionaries. For example:"
   ]
  },
  {
   "cell_type": "code",
   "execution_count": null,
   "metadata": {
    "id": "KBwYpX2Ei5_M"
   },
   "outputs": [],
   "source": [
    "# Numbers\n",
    "x = 5\n",
    "y = 5.5\n",
    "\n",
    "# Strings\n",
    "name = \"Jane Doe\"\n",
    "\n",
    "# Lists\n",
    "fruits = [\"apple\", \"banana\", \"cherry\"]\n",
    "\n",
    "# Tuples\n",
    "person = (\"Jane\", \"Doe\", 30)\n",
    "\n",
    "# Dictionaries\n",
    "person = {\n",
    "    \"first_name\": \"Jane\",\n",
    "    \"last_name\": \"Doe\",\n",
    "    \"age\": 30\n",
    "}\n"
   ]
  },
  {
   "cell_type": "markdown",
   "metadata": {
    "id": "Rl_VI8OZi5_O"
   },
   "source": [
    "### Operators\n",
    "Python supports several types of operators, including arithmetic, comparison, and assignment operators. For example:"
   ]
  },
  {
   "cell_type": "code",
   "execution_count": null,
   "metadata": {
    "id": "ftTdmoPUi5_P"
   },
   "outputs": [],
   "source": [
    "# Arithmetic\n",
    "x = 5\n",
    "y = 3\n",
    "z = x + y\n",
    "print(z) # Output: 8\n",
    "\n",
    "# Comparison\n",
    "x = 5\n",
    "y = 3\n",
    "print(x > y) # Output: True\n",
    "\n",
    "# Assignment\n",
    "x = 5\n",
    "x += 3\n",
    "print(x) # Output: 8"
   ]
  },
  {
   "cell_type": "markdown",
   "metadata": {
    "id": "7ZYduVqSi5_Q"
   },
   "source": [
    "### Conditional Statements\n",
    "Conditional statements allow you to control the flow of a program based on certain conditions. You can play around by changing the value of `x`."
   ]
  },
  {
   "cell_type": "code",
   "execution_count": null,
   "metadata": {
    "id": "uF_aCO0Ii5_R"
   },
   "outputs": [],
   "source": [
    "x = 5\n",
    "if x > 10:\n",
    "    print(\"x is greater than 10\")\n",
    "else:\n",
    "    print(\"x is less than or equal to 10\")"
   ]
  },
  {
   "cell_type": "markdown",
   "metadata": {
    "id": "Y833TvqAi5_S"
   },
   "source": [
    "### Loops\n",
    "Loops allow you to repeat a block of code multiple times. There are two types of loops in Python: `for` and `while` loops."
   ]
  },
  {
   "cell_type": "code",
   "execution_count": null,
   "metadata": {
    "id": "YEcaoej4i5_U"
   },
   "outputs": [],
   "source": [
    "# For Loop\n",
    "fruits = [\"apple\", \"banana\", \"cherry\"]\n",
    "for fruit in fruits:\n",
    "    print(fruit)\n",
    "\n",
    "# Output:\n",
    "# apple\n",
    "# banana\n",
    "# cherry"
   ]
  },
  {
   "cell_type": "code",
   "execution_count": null,
   "metadata": {
    "id": "x17jcBZMi5_V"
   },
   "outputs": [],
   "source": [
    "# While Loop\n",
    "x = 0\n",
    "while x < 5:\n",
    "    print(x)\n",
    "    x += 1\n",
    "\n",
    "# Output:\n",
    "# 0\n",
    "# 1\n",
    "# 2\n",
    "# 3\n",
    "# 4"
   ]
  },
  {
   "cell_type": "markdown",
   "metadata": {
    "id": "lajZIAzoi5_W"
   },
   "source": [
    "### Functions\n",
    "Functions are reusable blocks of code that perform a specific task. You can define functions using the `def` keyword."
   ]
  },
  {
   "cell_type": "code",
   "execution_count": null,
   "metadata": {
    "id": "bKEpmWTRi5_W"
   },
   "outputs": [],
   "source": [
    "def greet(name):\n",
    "    print(\"Hello, \" + name)\n",
    "\n",
    "greet(\"Jane\") # Output: Hello, Jane"
   ]
  },
  {
   "cell_type": "markdown",
   "metadata": {
    "id": "cl-TxPsIUG86"
   },
   "source": [
    "An important functionality of functions is the return object. It is also important to note that variables defined within functions are only known inside and cannot be referenced outside functions."
   ]
  },
  {
   "cell_type": "code",
   "execution_count": null,
   "metadata": {
    "id": "Uht6w_R-UMdd"
   },
   "outputs": [],
   "source": [
    "def greet(name):\n",
    "  greeting = \"Hello, \" + name\n",
    "  return greeting\n",
    "\n",
    "greeting = greet(\"Jane\") # No output, the string is stored in the variable \"greeting\"\n",
    "print(greeting) # Output: Hello, Jane"
   ]
  },
  {
   "cell_type": "markdown",
   "metadata": {
    "id": "1aeSjI2ti5_X"
   },
   "source": [
    "## Additional examples\n",
    "\n",
    "You can copy any of that code to make it run in a `code` cell.\n",
    "\n",
    "### Numbers\n",
    "\n",
    "```python\n",
    "# Addition\n",
    "x = 5\n",
    "y = 10\n",
    "z = x + y\n",
    "print(z) # Output: 15\n",
    "\n",
    "# Subtraction\n",
    "x = 15\n",
    "y = 10\n",
    "z = x - y\n",
    "print(z) # Output: 5\n",
    "\n",
    "# Multiplication\n",
    "x = 5\n",
    "y = 10\n",
    "z = x * y\n",
    "print(z) # Output: 50\n",
    "\n",
    "# Division\n",
    "x = 15\n",
    "y = 10\n",
    "z = x / y\n",
    "print(z) # Output: 1.5\n",
    "\n",
    "# Modulo\n",
    "x = 15\n",
    "y = 10\n",
    "z = x % y\n",
    "print(z) # Output: 5\n",
    "\n",
    "# Exponentiation\n",
    "x = 5\n",
    "y = 2\n",
    "z = x ** y\n",
    "print(z) # Output: 25\n",
    "```\n",
    "\n",
    "Just create a `code` cell below to run selected examples."
   ]
  },
  {
   "cell_type": "markdown",
   "metadata": {
    "id": "CpfPn-sGi5_X"
   },
   "source": [
    "### Strings\n",
    "\n",
    "```python\n",
    "first_name = \"Jane\"\n",
    "last_name = \"Smith\"\n",
    "full_name = first_name + \" \" + last_name\n",
    "print(full_name) # Output: Jane Smith\n",
    "\n",
    "# Repetition\n",
    "x = \"hello\"\n",
    "y = x * 3\n",
    "print(y) # Output: hellohellohello\n",
    "\n",
    "# Indexing\n",
    "x = \"hello\"\n",
    "print(x[0]) # First element -> Output: h\n",
    "print(x[-1]) # Last element -> Output: o\n",
    "\n",
    "# Slicing\n",
    "x = \"hello\"\n",
    "print(x[1:4]) # Output: ell\n",
    "print(x[:3]) # Output: hel\n",
    "print(x[1:]) # Output: ello\n",
    "\n",
    "# Membership\n",
    "x = \"hello\"\n",
    "print(\"h\" in x) # Output: True\n",
    "print(\"z\" in x) # Output: False\n",
    "```"
   ]
  },
  {
   "cell_type": "markdown",
   "metadata": {
    "id": "Hne8_Z8vi5_Y"
   },
   "source": [
    "### Lists\n",
    "\n",
    "```python\n",
    "# Indexing\n",
    "fruits = [\"apple\", \"banana\", \"cherry\"]\n",
    "print(fruits[0]) # Output: apple\n",
    "print(fruits[-1]) # Output: cherry\n",
    "\n",
    "# Slicing\n",
    "fruits = [\"apple\", \"banana\", \"cherry\"]\n",
    "print(fruits[1:3]) # Output: ['banana', 'cherry']\n",
    "\n",
    "# Membership\n",
    "fruits = [\"apple\", \"banana\", \"cherry\"]\n",
    "print(\"apple\" in fruits) # Output: True\n",
    "print(\"orange\" in fruits) # Output: False\n",
    "\n",
    "# Length\n",
    "fruits = [\"apple\", \"banana\", \"cherry\"]\n",
    "print(len(fruits)) # Output: 3\n",
    "\n",
    "# Append\n",
    "fruits = [\"apple\", \"banana\", \"cherry\"]\n",
    "fruits.append(\"orange\")\n",
    "print(fruits) # Output: ['apple', 'banana', 'cherry', 'orange']\n",
    "\n",
    "# Insert\n",
    "fruits = [\"apple\", \"banana\", \"cherry\"]\n",
    "fruits.insert(1, \"orange\")\n",
    "print(fruits) # Output: ['apple', 'orange', 'banana', 'cherry']\n",
    "\n",
    "# Remove\n",
    "fruits = [\"apple\", \"banana\", \"cherry\"]\n",
    "fruits.remove(\"banana\")\n",
    "print(fruits) # Output: ['apple', 'cherry']\n",
    "\n",
    "# Pop\n",
    "fruits = [\"apple\", \"banana\", \"cherry\"]\n",
    "x = fruits.pop()\n",
    "print(x) # Output: cherry\n",
    "print(fruits) # Output: ['apple', 'banana']\n",
    "```"
   ]
  },
  {
   "cell_type": "markdown",
   "metadata": {
    "id": "wqkLkHEEi5_Y"
   },
   "source": [
    "### Tuples\n",
    "```python\n",
    "# Indexing\n",
    "person = (\"Jane\", \"Doe\", 30)\n",
    "print(person[0]) # Output: Jane\n",
    "print(person[-1]) # Output: 30\n",
    "\n",
    "# Slicing\n",
    "person = (\"Jane\", \"Doe\", 30)\n",
    "print(person[1:3]) # Output: ('Doe', 30)\n",
    "\n",
    "# Membership\n",
    "person = (\"Jane\", \"Doe\", 30)\n",
    "print(\"John\" in person) # Output: False\n",
    "print(\"Jane\" in person) # Output: True\n",
    "\n",
    "# Length\n",
    "person = (\"Jane\", \"Doe\", 30)\n",
    "print(len(person)) # Output: 3\n",
    "```"
   ]
  },
  {
   "cell_type": "markdown",
   "metadata": {
    "id": "e57X3cixi5_Z"
   },
   "source": [
    "## Dictionaries\n",
    "\n",
    "```python\n",
    "# Indexing\n",
    "person = {\n",
    "    \"first_name\": \"Jane\",\n",
    "    \"last\n",
    "last_name\": \"Doe\",\n",
    "    \"age\": 30\n",
    "}\n",
    "print(person[\"first_name\"]) # Output: Jane\n",
    "\n",
    "# Membership\n",
    "person = {\n",
    "    \"first_name\": \"Jane\",\n",
    "    \"last_name\": \"Doe\",\n",
    "    \"age\": 30\n",
    "}\n",
    "print(\"first_name\" in person) # Output: True\n",
    "print(\"email\" in person) # Output: False\n",
    "\n",
    "# Length\n",
    "person = {\n",
    "    \"first_name\": \"Jane\",\n",
    "    \"last_name\": \"Doe\",\n",
    "    \"age\": 30\n",
    "}\n",
    "print(len(person)) # Output: 3\n",
    "\n",
    "# Adding key-value pairs\n",
    "person = {\n",
    "    \"first_name\": \"Jane\",\n",
    "    \"last_name\": \"Doe\",\n",
    "    \"age\": 30\n",
    "}\n",
    "person[\"email\"] = \"janedoe@email.com\"\n",
    "print(person) # Output: {'first_name': 'Jane', 'last_name': 'Doe', 'age': 30, 'email': 'janedoe@email.com'}\n",
    "\n",
    "# Modifying values\n",
    "person = {\n",
    "    \"first_name\": \"Jane\",\n",
    "    \"last_name\": \"Doe\",\n",
    "    \"age\": 30\n",
    "}\n",
    "person[\"first_name\"] = \"John\"\n",
    "print(person) # Output: {'first_name': 'John', 'last_name': 'Doe', 'age': 30}\n",
    "\n",
    "# Removing key-value pairs\n",
    "person = {\n",
    "    \"first_name\": \"Jane\",\n",
    "    \"last_name\": \"Doe\",\n",
    "    \"age\": 30\n",
    "}\n",
    "del person[\"age\"]\n",
    "print(person) # Output: {'first_name': 'Jane', 'last_name': 'Doe'}\n",
    "\n",
    "```"
   ]
  },
  {
   "cell_type": "markdown",
   "metadata": {
    "id": "HOnp4hA6i5_Z"
   },
   "source": [
    "This is just a brief introduction to Python programming. There are many more advanced topics and features in Python, but these basics should give you a good start for the upcoming exercises."
   ]
  },
  {
   "cell_type": "markdown",
   "metadata": {
    "id": "AyH85PePddWP"
   },
   "source": [
    "The following part of the notebook is based on these two websites: https://numpy.org/doc/stable/user/absolute_beginners.html and https://www.w3schools.com/python/numpy/default.asp\n",
    "\n",
    "## NumPy\n",
    "Packages are code that extend the functionality of basic Python. Python comes already with some packages. A central package we will frequently make use of in this course is NumPy. In your own Python environment, it will first need to be installed, however, luckily, it is already installed in the Python environment on Google Colab. In the following code cell, we are loading NumPy and make it accessible via the `np` namespace."
   ]
  },
  {
   "cell_type": "code",
   "execution_count": null,
   "metadata": {
    "id": "SMCTp30mfGLF"
   },
   "outputs": [],
   "source": [
    "import numpy as np"
   ]
  },
  {
   "cell_type": "markdown",
   "metadata": {
    "id": "i4nrZoZxfU9A"
   },
   "source": [
    "\n",
    "\n",
    "\n",
    "In the following cell, we are creating an array and print its content and type. Note that the prefix `np.` indicates that array is an object from the NumPy package."
   ]
  },
  {
   "cell_type": "code",
   "execution_count": null,
   "metadata": {
    "id": "GFetJMZWfe8g"
   },
   "outputs": [],
   "source": [
    "array = np.array([1, 2, 3, 4])\n",
    "print(array) # Output: [1 2 3 4]\n",
    "print(type(array)) # Output: <class 'numpy.ndarray'>"
   ]
  },
  {
   "cell_type": "markdown",
   "metadata": {
    "id": "eWc3gki8frPj"
   },
   "source": [
    "Arrays can have more than one dimension. The function `shape` provides the number of entries for each dimension."
   ]
  },
  {
   "cell_type": "code",
   "execution_count": null,
   "metadata": {
    "id": "E0dSDvnJz5WU"
   },
   "outputs": [],
   "source": [
    "array = np.array([[1, 2, 3, 4], [5, 6, 7, 8]])\n",
    "print(array) # Output: [[1 2 3 4] [5 6 7 8]]\n",
    "print(array.shape) # Output: (2, 4)"
   ]
  },
  {
   "cell_type": "markdown",
   "metadata": {
    "id": "vPYvAZTMBurZ"
   },
   "source": [
    "Array indexing allows to get specific elements of arrays."
   ]
  },
  {
   "cell_type": "code",
   "execution_count": null,
   "metadata": {
    "id": "32hnknFxBy92"
   },
   "outputs": [],
   "source": [
    "array = np.array([1, 2, 3, 4])\n",
    "print(array[0]) # Output: 1\n",
    "print(array[3]) # Output: 4\n",
    "print(array[-1]) # Output: 4"
   ]
  },
  {
   "cell_type": "markdown",
   "metadata": {
    "id": "ePlA3MiTC30b"
   },
   "source": [
    "NumPy arrays are particularly suitable for mathematical operations. Here are a few examples that also make use of multidimensional array indexing and slicing (via the colon, `:`)."
   ]
  },
  {
   "cell_type": "code",
   "execution_count": null,
   "metadata": {
    "id": "JYwUUD4eC9Mf"
   },
   "outputs": [],
   "source": [
    "array = np.zeros((2, 3))\n",
    "print(array)\n",
    "print(array.shape)\n",
    "array = array + 1.0\n",
    "print(array)\n",
    "array = array + 0.5\n",
    "print(array)\n",
    "array[0,:] = array[0,:] + 1.0\n",
    "print(array)\n",
    "array[:,1] = array[:,1] + 1.0\n",
    "print(array)\n",
    "array = array / 0.5\n",
    "print(array)"
   ]
  },
  {
   "cell_type": "markdown",
   "metadata": {
    "id": "BzNU2-fNGP1A"
   },
   "source": [
    "The following part of the notebook is based on the tutorials found at: https://matplotlib.org/stable/tutorials/index.html"
   ]
  },
  {
   "cell_type": "markdown",
   "metadata": {
    "id": "tV2oF7NKF0oz"
   },
   "source": [
    "## Matplotlib\n",
    "With the help of the package `matplotlib`, Python can be used to make plots andd visualizations of the data. Have a look at the following code example that uses NumPy and Matplotlib."
   ]
  },
  {
   "cell_type": "code",
   "execution_count": null,
   "metadata": {
    "id": "LDZDf0cYGPGp"
   },
   "outputs": [],
   "source": [
    "import matplotlib as mpl\n",
    "import matplotlib.pyplot as plt\n",
    "import numpy as np\n",
    "\n",
    "array = np.array([[1, 2, 3, 4], [1, 4, 2, 3]]) # Create an array with some data to be plotted.\n",
    "\n",
    "fig, ax = plt.subplots()  # Create a figure containing a single axes.\n",
    "ax.plot(array[0,:], array[1,:], label='data')  # Plot some data on the axes.\n",
    "ax.set_xlabel('x label')  # Add an x-label to the axes.\n",
    "ax.set_ylabel('y label')  # Add a y-label to the axes.\n",
    "ax.set_title(\"Simple Plot\")  # Add a title to the axes.\n",
    "ax.legend()  # Add a legend."
   ]
  },
  {
   "cell_type": "markdown",
   "metadata": {
    "id": "NksLpLvTHlLZ"
   },
   "source": [
    "We can use the same data but change the plotting style."
   ]
  },
  {
   "cell_type": "code",
   "execution_count": null,
   "metadata": {
    "id": "sn-EFWLGHrQy"
   },
   "outputs": [],
   "source": [
    "fig, ax = plt.subplots()  # Create a figure containing a single axes.\n",
    "ax.scatter(array[0,:], array[1,:], label='data')  # Plot some data on the axes.\n",
    "ax.set_xlabel('x label')  # Add an x-label to the axes.\n",
    "ax.set_ylabel('y label')  # Add a y-label to the axes.\n",
    "ax.set_title(\"Simple Plot\")  # Add a title to the axes.\n",
    "ax.legend()  # Add a legend."
   ]
  },
  {
   "cell_type": "markdown",
   "metadata": {
    "id": "Dq-5vuNrIZhk"
   },
   "source": [
    "You can also create a plot of common mathematical functions or custom defined ones."
   ]
  },
  {
   "cell_type": "code",
   "execution_count": null,
   "metadata": {
    "id": "HnbuRnyEIeHX"
   },
   "outputs": [],
   "source": [
    "x_data = np.linspace(0,2*np.pi,100)\n",
    "\n",
    "fig, ax = plt.subplots()  # Create a figure containing a single axes.\n",
    "ax.plot(x_data, np.sin(x_data), label='sin(x)')  # Plot some data on the axes.\n",
    "ax.plot(x_data, np.cos(x_data), label='cos(x)')  # Plot some data on the axes.\n",
    "ax.plot(x_data, np.tan(x_data), label='tan(x)')  # Plot some data on the axes.\n",
    "ax.plot(x_data, 0.05*x_data**2, label='0.05 x²')  # Plot some data on the axes.\n",
    "ax.set_xlabel('x')  # Add an x-label to the axes.\n",
    "ax.set_ylabel('y')  # Add a y-label to the axes.\n",
    "ax.set_title(\"Trigonometric Functions\")  # Add a title to the axes.\n",
    "plt.ylim([-2., 2])\n",
    "ax.legend()  # Add a legend."
   ]
  },
  {
   "cell_type": "markdown",
   "metadata": {
    "id": "Nh0MijKxVF1R"
   },
   "source": [
    "# Tips for Improving Python Skills\n",
    "\n",
    "Should you feel like improving your Python skills, here is a list of tips that will help you in that regard.\n",
    "\n",
    "1. Follow online tutorials. A good place to start is [Intro to Programming](https://www.kaggle.com/learn/intro-to-programming) and [Python](https://www.kaggle.com/learn/python) from Kaggle Learn.\n",
    "2. Use Google to search for how to implement something specific in Python.\n",
    "3. Use ChatGPT for code suggestions to implement something specific in Python, have code explained to you, and help you with debugging. Follow the following [Tutorial](https://realpython.com/chatgpt-coding-mentor-python/) for effective prompting in that regard.\n",
    "4. Ask the course instructors or a colleague how to implement something specific in Python.\n",
    "5. Look at functioning code and try to understand what it does and how it works.\n",
    "\n"
   ]
  }
 ],
 "metadata": {
  "colab": {
   "provenance": []
  },
  "kernelspec": {
   "display_name": "Python 3 (ipykernel)",
   "language": "python",
   "name": "python3"
  },
  "language_info": {
   "codemirror_mode": {
    "name": "ipython",
    "version": 3
   },
   "file_extension": ".py",
   "mimetype": "text/x-python",
   "name": "python",
   "nbconvert_exporter": "python",
   "pygments_lexer": "ipython3",
   "version": "3.12.3"
  },
  "vscode": {
   "interpreter": {
    "hash": "1be16fbddf550357e4e46540ee01bc6d12a48d7bc56fc8427cd30121d5943dc8"
   }
  }
 },
 "nbformat": 4,
 "nbformat_minor": 4
}
