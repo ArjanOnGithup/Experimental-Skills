{
 "cells": [
  {
   "cell_type": "code",
   "execution_count": 1,
   "id": "6730ca40-d2d9-4756-bf70-112fd12f2d39",
   "metadata": {},
   "outputs": [],
   "source": [
    "import spectHR as cs"
   ]
  },
  {
   "cell_type": "code",
   "execution_count": 2,
   "id": "4712a4a2-7168-446a-9a8d-2f10690ce4ea",
   "metadata": {},
   "outputs": [],
   "source": [
    "DataSet = cs.SpectHRDataset(\"Example Data/SUB_002.xdf\", 1, event_index = 0) "
   ]
  },
  {
   "cell_type": "code",
   "execution_count": 3,
   "id": "9eb99c71-c3eb-49bc-8182-40dcda417b76",
   "metadata": {
    "editable": true,
    "slideshow": {
     "slide_type": ""
    },
    "tags": []
   },
   "outputs": [
    {
     "name": "stdout",
     "output_type": "stream",
     "text": [
      "Slicing from 410.51935732510447 to 2354.9712434371777\n"
     ]
    }
   ],
   "source": [
    "bDataSet = cs.borderData(DataSet)\n",
    "#bDataSet.ecg = bDataSet.ecg.slicetime(500,520)"
   ]
  },
  {
   "cell_type": "code",
   "execution_count": 4,
   "id": "0304164f-5e9b-43fb-a41a-6e2be4dd5e77",
   "metadata": {
    "editable": true,
    "slideshow": {
     "slide_type": ""
    },
    "tags": []
   },
   "outputs": [
    {
     "name": "stdout",
     "output_type": "stream",
     "text": [
      "Data filtered with a highpass filter (cutoff = 1 Hz).\n"
     ]
    }
   ],
   "source": [
    "fDataSet = cs.filterECGData(bDataSet, \n",
    "                          {'filterType': 'highpass', \n",
    "                           'cutoff': 1})"
   ]
  },
  {
   "cell_type": "code",
   "execution_count": 5,
   "id": "63f63ea6-2468-4e56-8569-941ce7ab323f",
   "metadata": {
    "editable": true,
    "slideshow": {
     "slide_type": ""
    },
    "tags": []
   },
   "outputs": [
    {
     "name": "stdout",
     "output_type": "stream",
     "text": [
      "Found 2589 r-tops\n",
      "Found 2581 N rtops\n",
      "Found 8 S rtops\n"
     ]
    }
   ],
   "source": [
    "tDataSet = cs.calcPeaks(bDataSet)"
   ]
  },
  {
   "cell_type": "code",
   "execution_count": 6,
   "id": "8ab0b98e-9886-41df-a5ee-0e2814efa978",
   "metadata": {
    "editable": true,
    "slideshow": {
     "slide_type": ""
    },
    "tags": []
   },
   "outputs": [
    {
     "data": {
      "application/vnd.jupyter.widget-view+json": {
       "model_id": "a2b155b3fc7845fab357e56684f49e70",
       "version_major": 2,
       "version_minor": 0
      },
      "text/plain": [
       "Container(children=[Select(class_='mt-4', items=['Drag', 'Add', 'Find', 'Remove'], label='Mode', v_model='Drag…"
      ]
     },
     "metadata": {},
     "output_type": "display_data"
    }
   ],
   "source": [
    "%matplotlib widget\n",
    "import matplotlib.pyplot as plt\n",
    "#plt.xkcd()\n",
    "\n",
    "cs.spectHRplotM(tDataSet)"
   ]
  }
 ],
 "metadata": {
  "kernelspec": {
   "display_name": "Python 3",
   "language": "python",
   "name": "python3"
  },
  "language_info": {
   "codemirror_mode": {
    "name": "ipython",
    "version": 3
   },
   "file_extension": ".py",
   "mimetype": "text/x-python",
   "name": "python",
   "nbconvert_exporter": "python",
   "pygments_lexer": "ipython3",
   "version": "3.9.13"
  }
 },
 "nbformat": 4,
 "nbformat_minor": 5
}
