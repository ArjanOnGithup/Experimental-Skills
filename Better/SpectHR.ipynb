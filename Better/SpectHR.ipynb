{
 "cells": [
  {
   "cell_type": "code",
   "execution_count": 1,
   "id": "6730ca40-d2d9-4756-bf70-112fd12f2d39",
   "metadata": {},
   "outputs": [],
   "source": [
    "import spectHR as cs"
   ]
  },
  {
   "cell_type": "code",
   "execution_count": 2,
   "id": "4712a4a2-7168-446a-9a8d-2f10690ce4ea",
   "metadata": {},
   "outputs": [],
   "source": [
    "DataSet = cs.SpectHRDataset(\"Example Data/SUB_002.xdf\", 1, event_index = 0) "
   ]
  },
  {
   "cell_type": "code",
   "execution_count": 3,
   "id": "9eb99c71-c3eb-49bc-8182-40dcda417b76",
   "metadata": {
    "editable": true,
    "slideshow": {
     "slide_type": ""
    },
    "tags": []
   },
   "outputs": [
    {
     "name": "stdout",
     "output_type": "stream",
     "text": [
      "Slicing from 410.5193573250517 to 2354.971243437136\n"
     ]
    }
   ],
   "source": [
    "bDataSet = cs.borderData(DataSet)\n",
    "#bDataSet.ecg = bDataSet.ecg.slicetime(500,520)"
   ]
  },
  {
   "cell_type": "code",
   "execution_count": 4,
   "id": "0304164f-5e9b-43fb-a41a-6e2be4dd5e77",
   "metadata": {
    "editable": true,
    "slideshow": {
     "slide_type": ""
    },
    "tags": []
   },
   "outputs": [
    {
     "name": "stdout",
     "output_type": "stream",
     "text": [
      "Data filtered with a highpass filter (cutoff = 1 Hz).\n"
     ]
    }
   ],
   "source": [
    "fDataSet = cs.filterECGData(bDataSet, \n",
    "                          {'filterType': 'highpass', \n",
    "                           'cutoff': 1})"
   ]
  },
  {
   "cell_type": "code",
   "execution_count": 5,
   "id": "63f63ea6-2468-4e56-8569-941ce7ab323f",
   "metadata": {
    "editable": true,
    "slideshow": {
     "slide_type": ""
    },
    "tags": []
   },
   "outputs": [
    {
     "name": "stdout",
     "output_type": "stream",
     "text": [
      "Found 2589 r-tops\n",
      "Found 8 S rtops\n",
      "Found 2581 N rtops\n"
     ]
    }
   ],
   "source": [
    "tDataSet = cs.calcPeaks(bDataSet)"
   ]
  },
  {
   "cell_type": "code",
   "execution_count": 6,
   "id": "8ab0b98e-9886-41df-a5ee-0e2814efa978",
   "metadata": {
    "editable": true,
    "slideshow": {
     "slide_type": ""
    },
    "tags": []
   },
   "outputs": [
    {
     "data": {
      "application/vnd.jupyter.widget-view+json": {
       "model_id": "11809246561940659e5a89eb28d9f02e",
       "version_major": 2,
       "version_minor": 0
      },
      "text/plain": [
       "VBox(children=(Dropdown(description='Mode:', layout=Layout(width='200px'), options=('Drag', 'Add', 'Find', 'Re…"
      ]
     },
     "metadata": {},
     "output_type": "display_data"
    },
    {
     "name": "stdout",
     "output_type": "stream",
     "text": [
      "pressed 201,140, Axes(0.125,0.11;0.775x0.1) (Axes(0.125,0.11;0.775x0.1)) in: False\n",
      "pressed 192,167, Axes(0.125,0.11;0.775x0.1) (Axes(0.125,0.11;0.775x0.1)) in: False\n",
      "pressed 149,122, None (Axes(0.125,0.11;0.775x0.1)) in: False\n",
      "pressed 181,124, Axes(0.125,0.11;0.775x0.1) (Axes(0.125,0.11;0.775x0.1)) in: False\n",
      "pressed 717,346, Axes(0.125,0.28;0.775x0.6) (Axes(0.125,0.11;0.775x0.1)) in: False\n",
      "pressed 1038,129, Axes(0.125,0.11;0.775x0.1) (Axes(0.125,0.11;0.775x0.1)) in: False\n"
     ]
    }
   ],
   "source": [
    "%matplotlib widget\n",
    "import matplotlib.pyplot as plt\n",
    "#plt.xkcd()\n",
    "\n",
    "cs.spectHRplot(tDataSet)"
   ]
  }
 ],
 "metadata": {
  "kernelspec": {
   "display_name": "base",
   "language": "python",
   "name": "python3"
  },
  "language_info": {
   "codemirror_mode": {
    "name": "ipython",
    "version": 3
   },
   "file_extension": ".py",
   "mimetype": "text/x-python",
   "name": "python",
   "nbconvert_exporter": "python",
   "pygments_lexer": "ipython3",
   "version": "3.12.4"
  }
 },
 "nbformat": 4,
 "nbformat_minor": 5
}
