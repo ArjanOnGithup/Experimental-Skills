{
 "cells": [
  {
   "cell_type": "code",
   "execution_count": 1,
   "id": "6730ca40-d2d9-4756-bf70-112fd12f2d39",
   "metadata": {},
   "outputs": [],
   "source": [
    "#!pip install pyhrv\n",
    "import spectHR as cs\n",
    "import pyhrv"
   ]
  },
  {
   "cell_type": "code",
   "execution_count": 2,
   "id": "4712a4a2-7168-446a-9a8d-2f10690ce4ea",
   "metadata": {},
   "outputs": [],
   "source": [
    "DataSet = cs.SpectHRDataset(\"Example Data/SUB_002.xdf\", 1, event_index = 0) "
   ]
  },
  {
   "cell_type": "code",
   "execution_count": 3,
   "id": "9eb99c71-c3eb-49bc-8182-40dcda417b76",
   "metadata": {
    "editable": true,
    "slideshow": {
     "slide_type": ""
    },
    "tags": []
   },
   "outputs": [],
   "source": [
    "bDataSet = cs.borderData(DataSet)\n",
    "#bDataSet.ecg = bDataSet.ecg.slicetime(500,520)"
   ]
  },
  {
   "cell_type": "code",
   "execution_count": 4,
   "id": "0304164f-5e9b-43fb-a41a-6e2be4dd5e77",
   "metadata": {
    "editable": true,
    "slideshow": {
     "slide_type": ""
    },
    "tags": []
   },
   "outputs": [],
   "source": [
    "fDataSet = cs.filterECGData(bDataSet, \n",
    "                          {'filterType': 'highpass', \n",
    "                           'cutoff': 1})"
   ]
  },
  {
   "cell_type": "code",
   "execution_count": 5,
   "id": "63f63ea6-2468-4e56-8569-941ce7ab323f",
   "metadata": {
    "editable": true,
    "slideshow": {
     "slide_type": ""
    },
    "tags": []
   },
   "outputs": [],
   "source": [
    "tDataSet = cs.calcPeaks(bDataSet)"
   ]
  },
  {
   "cell_type": "code",
   "execution_count": 6,
   "id": "8ab0b98e-9886-41df-a5ee-0e2814efa978",
   "metadata": {
    "editable": true,
    "slideshow": {
     "slide_type": ""
    },
    "tags": []
   },
   "outputs": [],
   "source": [
    "%matplotlib widget\n",
    "import matplotlib.pyplot as plt\n",
    "#plt.xkcd()\n",
    "\n",
    "GUI = cs.spectHRplot(tDataSet)"
   ]
  },
  {
   "cell_type": "code",
   "execution_count": 7,
   "id": "d08301ee",
   "metadata": {},
   "outputs": [
    {
     "data": {
      "application/vnd.jupyter.widget-view+json": {
       "model_id": "7e56985796ff4f7caba05bdc240cdc6b",
       "version_major": 2,
       "version_minor": 0
      },
      "text/plain": [
       "AppLayout(children=(Dropdown(description='Mode:', layout=Layout(grid_area='header', width='200px'), options=('…"
      ]
     },
     "metadata": {},
     "output_type": "display_data"
    }
   ],
   "source": [
    "GUI"
   ]
  },
  {
   "cell_type": "code",
   "execution_count": null,
   "id": "89d59380-b798-4f44-a808-8da37feda246",
   "metadata": {},
   "outputs": [],
   "source": []
  },
  {
   "cell_type": "code",
   "execution_count": null,
   "id": "aef5f890-5c6b-4de2-8883-8b5587064655",
   "metadata": {},
   "outputs": [],
   "source": []
  }
 ],
 "metadata": {
  "kernelspec": {
   "display_name": "Python 3 (ipykernel)",
   "language": "python",
   "name": "python3"
  },
  "language_info": {
   "codemirror_mode": {
    "name": "ipython",
    "version": 3
   },
   "file_extension": ".py",
   "mimetype": "text/x-python",
   "name": "python",
   "nbconvert_exporter": "python",
   "pygments_lexer": "ipython3",
   "version": "3.9.13"
  }
 },
 "nbformat": 4,
 "nbformat_minor": 5
}
