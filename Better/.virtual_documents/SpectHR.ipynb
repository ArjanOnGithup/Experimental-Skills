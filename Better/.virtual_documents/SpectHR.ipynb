import spectHR as cs
import ipywidgets
import ipympl


DataSet = cs.SpectHRDataset("Example Data/SUB_002.xdf", 1, event_index = 0) 


bDataSet = cs.borderData(DataSet)
bDataSet.ecg = bDataSet.ecg.slicetime(500,520)


fDataSet = cs.filterECGData(bDataSet, 
                          {'filterType': 'highpass', 
                           'cutoff': 1})


tDataSet = cs.calcPeaks(bDataSet)


%matplotlib widget
cs.spectHRplot(tDataSet)



