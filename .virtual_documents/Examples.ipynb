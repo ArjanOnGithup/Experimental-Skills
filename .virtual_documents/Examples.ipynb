import ipywidgets
import ipyvuetify as v
from threading import Timer

lorum_ipsum = 'Lorem ipsum dolor sit amet, consectetur adipiscing elit, sed do eiusmod tempor incididunt ut labore et dolore magna aliqua. Ut enim ad minim veniam, quis nostrud exercitation ullamco laboris nisi ut aliquip ex ea commodo consequat. Duis aute irure dolor in reprehenderit in voluptate velit esse cillum dolore eu fugiat nulla pariatur. Excepteur sint occaecat cupidatat non proident, sunt in culpa qui officia deserunt mollit anim id est laborum.'


count = 0

def on_click(widget, event, data):
    global count
    count += 1
    button1.children=['button ' + str(count)]

button1 = v.Btn(children=['button'])
button1.on_event('click', on_click)

v.Layout(class_='pa-2', children=[button1])


v.Layout(children=[
    v.Btn(color='primary', class_='ma-2', children=['primary']),
    v.Btn(color='error', class_='ma-2', children=['error']),
    v.Btn(color='pink lighten-4', class_='ma-2', children=['custom']),
    v.Btn(color='#654321', dark=True, class_='ma-2', children=['hex']),
    v.Btn(color='#654321', disabled=True, class_='ma-2', children=['disabled']),

])


v.Layout(children=[
    v.Btn(color='primary', text=True, class_='ma-2', children=['flat']),
    v.Btn(color='primary', text=True, disabled=True, class_='ma-2', children=['flat']),
    v.Btn(color='primary', rounded=True, class_='ma-2', children=['rounded']),
    v.Btn(color='primary', rounded=True, class_='ma-2', disabled=True, children=['rounded']),
    v.Btn(color='primary', depressed=True, class_='ma-2', children=['depressed']),
    v.Btn(color='primary', icon=True, class_='ma-2', children=[v.Icon(children=['mdi-thumb-up'])]),
    v.Btn(color='primary', outline=True, class_='ma-2', children=['outline']),
])


v.Layout(children=[
    v.Btn(color='primary', small=True, class_='ma-2', children=['small']),
    v.Btn(color='primary', class_='ma-2', children=['normal']),
    v.Btn(color='primary', class_='ma-2', large=True, children=['large']),
    v.Btn(color='primary', class_='ma-2', small=True, fab=True, children=[v.Icon(children=['mdi-pencil'])]),
    v.Btn(color='primary', class_='ma-2', fab=True, children=[v.Icon(children=['mdi-pencil'])]),
    v.Btn(color='primary', class_='ma-2', fab=True, large=True, children=[v.Icon(children=['mdi-pencil'])]),
])


def toggleLoading():
    button2.loading = not button2.loading
    button2.disabled = button2.loading

def on_loader_click(*args):
    toggleLoading()
    Timer(2.0, toggleLoading).start()
    
button2 = v.Btn(loading=False, class_='ma-2', children=['loader'])
button2.on_event('click', on_loader_click)

v.Layout(children=[button2])


toggle_single = v.BtnToggle(v_model=2, class_='mr-3', children=[
    v.Btn(text=True, children=[v.Icon(children=['mdi-format-align-left'])]),
    v.Btn(text=True, children=[v.Icon(children=['mdi-format-align-center'])]),
    v.Btn(text=True, children=[v.Icon(children=['mdi-format-align-right'])]),
    v.Btn(text=True, children=[v.Icon(children=['mdi-format-align-justify'])]),
])

toggle_multi = v.BtnToggle(v_model=[0,2], multiple=True, children=[
    v.Btn(text=True, children=[v.Icon(children=['mdi-format-bold'])]),
    v.Btn(text=True, children=[v.Icon(children=['mdi-format-italic'])]),
    v.Btn(text=True, children=[v.Icon(children=['mdi-format-underline'])]),
    v.Btn(text=True, children=[v.Icon(children=['mdi-format-color-fill'])]),
])

v.Layout(children=[
    toggle_single,
    toggle_multi,
])


v.Layout(children=[
    v.Btn(color='primary', class_='ma-2', children=[
        v.Icon(left=True, children=['mdi-fingerprint']),
        'Icon left'
    ]),
    v.Btn(color='primary', class_='ma-2', children=[
        'Icon right',
        v.Icon(right=True, children=['mdi-fingerprint']),
    ]),
    v.Tooltip(bottom=True, v_slots=[{
        'name': 'activator',
        'variable': 'tooltip',
        'children': v.Btn(v_on='tooltip.on', color='primary', class_='ma-2', children=[
           'tooltip' 
        ]),
    }], children=[
        'Insert tooltip text here'
    ])    
])


def on_menu_click(widget, event, data):
    if len(layout.children) == 1:
        layout.children = layout.children + [info]
    info.children=[f'Item {items.index(widget)+1} clicked']
    

items = [v.ListItem(children=[
    v.ListItemTitle(children=[
        f'Click me {i}'])]) 
         for i in range(1, 5)]

for item in items:
    item.on_event('click', on_menu_click)

menu = v.Menu(offset_y=True,
    v_slots=[{
        'name': 'activator',
        'variable': 'menuData',
        'children': v.Btn(v_on='menuData.on', class_='ma-2', color='primary', children=[
            'menu', 
            v.Icon(right=True, children=[
                'mdi-menu-down'
            ])
        ]),
    }]
    , 
    children=[
        v.List(children=items)
    ]
)

info = v.Chip(class_='ma-2')

layout = v.Layout(children=[
    menu
])
layout


dialog = v.Dialog(width='500',
    v_slots=[{
        'name': 'activator',
        'variable': 'x',
        'children': v.Btn(v_on='x.on', color='success', dark=True, children=[
            'Open dialog'
        ]),
    }], 
    children=[
        v.Card(children=[
            v.CardTitle(class_='headline gray lighten-2', primary_title=True, children=[
                "Lorem ipsum"
            ]),
            v.CardText(children=[
                lorum_ipsum,
                v.TextField(label='Label', placeholder='Placeholder')
            ]),
    ])
])

v.Layout(children=[dialog])


slider = v.Slider(v_model=25)
slider2 = v.Slider(thumb_label=True, v_model=25)
slider3 = v.Slider(thumb_label='always', v_model=25)

ipywidgets.jslink((slider, 'v_model'), (slider2, 'v_model'))
ipywidgets.jslink((slider, 'v_model'), (slider3, 'v_model'))

v.Container(children=[
    slider,
    slider2,
    slider3
])


select1=v.Select(label="Choose option", items=['Option a', 'Option b', 'Option c'])
v.Layout(children=[select1])


tab_list = [v.Tab(children=['Tab ' + str(i)]) for i in range(1,4)]
content_list = [v.TabItem(children=[lorum_ipsum]) for i in range(1,4)] 
tabs = v.Tabs(
    v_model=1, 
    children=tab_list + content_list)
tabs


def on_click(widget, event, data):
   vnd.v_model = not vnd.v_model

drawer_button = v.Btn(color='primary', children=['Close drawer'])
drawer_button.on_event('click', on_click)

vnd = v.NavigationDrawer(v_model=False, absolute=True, right=True, children=[
    drawer_button
])

show_drawer = v.Btn(color='primary', children=['Toggle drawer'])
show_drawer.on_event('click', on_click)

v.Layout(children=[vnd, show_drawer]) 


vepc1 = v.ExpansionPanel(children=[
    v.ExpansionPanelHeader(children=['item1']),
    v.ExpansionPanelContent(children=['First Text'])])

vepc2 = v.ExpansionPanel(children=[
    v.ExpansionPanelHeader(children=['item2']),
    v.ExpansionPanelContent(children=['Second Text'])])

vep = v.ExpansionPanels(children=[vepc1, vepc2])
vl = v.Layout(class_='pa-4', children=[vep])
vl


v.Banner(single_line=True,
    v_slots=[{
        'name': 'icon',
        'children': v.Icon(children=['mdi-thumb-up'])
    }, {
        'name': 'actions',
        'children': v.Btn(text=True, color='deep-purple accent-4', children=['Action'])
    }], 
    children=['One line message text string with two actions on tablet / Desktop'])


activated = v.Chip(children=['_'])

items = [{
  'id': 1,
  'name': 'Applications :',
  'children': [
    { 'id': 2, 'name': 'Calendar' },
    { 'id': 3, 'name': 'Chrome' },
    { 'id': 4, 'name': 'Webstorm', 'children': [
        { 'id': 5, 'name': 'Test'}]},
  ],
}]

def on_activated(widget, event, data):
    activated.children = [f'{data}']

treeview = v.Treeview(items=items, selectable=True, activatable=True, v_model=[2])
treeview.on_event('update:active', on_activated)

v.Container(row=True, children=[
    v.Flex(xs12=True, children=[treeview]),
    v.Flex(xs12=True, children=[activated])])









