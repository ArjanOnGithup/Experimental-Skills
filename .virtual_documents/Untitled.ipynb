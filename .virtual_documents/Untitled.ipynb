import ipyvuetify as v

drawer = v.NavigationDrawer(mini_variant=True, ...)

def update_mini(widget, event, data):
    drawer.mini_variant = data`

drawer.on_event('update:miniVariant', update_mini)



