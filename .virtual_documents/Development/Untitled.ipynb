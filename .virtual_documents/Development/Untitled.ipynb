import spectHR as cs
import matplotlib.pyplot as plt
import pandas as pd

# Example datasets (replace with your actual datasets)
dataset1 = pd.DataFrame({
    'time': [0, 1, 2, 3, 4],
    'ibi': [0.8, 0.85, 0.83, 0.87, 0.9]
})

dataset2 = pd.DataFrame({
    'time': [0, 1, 2, 3, 4],
    'ibi': [0.75, 0.8, 0.82, 0.88, 0.92]
})

# Create a single figure for superimposing
plt.figure(figsize=(10, 6))

# Call welch_psd for the first dataset
cs.welch_psd(dataset1, interpolate=True, fs=4, logscale=False)

# Call welch_psd for the second dataset
cs.welch_psd(dataset2, interpolate=True, fs=4, logscale=False)

# Add labels and legend
plt.xlabel('Frequency (Hz)')
plt.ylabel('Power Spectral Density (PSD)')
plt.title('Superimposed Welch PSD')
plt.legend(loc='upper right')

# Show the superimposed plot
plt.show()




