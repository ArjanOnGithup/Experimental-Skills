


import spectHR as cs
# include matplotlib **only** to set the style
import matplotlib.pyplot as plt

%matplotlib widget
plt.style.use('seaborn-v0_8-colorblind')

# Create the Log Output here:
cs.handler.show_logs()





DataSet = cs.SpectHRDataset("SUB_049.xdf", use_webdav=True, reset = False)
DataSet = cs.borderData(DataSet)
#DataSet = cs.filterECGData(DataSet, {"filterType": "highpass", "cutoff": .50})
if not hasattr(DataSet, 'RTops'):
    DataSet = cs.calcPeaks(DataSet)





App = cs.HRApp(DataSet)






