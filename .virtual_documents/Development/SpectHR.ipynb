


import spectHR as cs
# include matplotlib **only** to set the style
import matplotlib.pyplot as plt

%matplotlib widget
plt.style.use('ggplot')

# Create the Log Output here:
cs.handler.show_logs()





DataSet = cs.SpectHRDataset("SUB_005.xdf", use_webdav=True, reset = False)
DataSet = cs.borderData(DataSet)
#DataSet = cs.filterECGData(DataSet, {"filterType": "highpass", "cutoff": .50})
if not hasattr(DataSet, 'RTops'):
    DataSet = cs.calcPeaks(DataSet)





App = cs.HRApp(DataSet)
