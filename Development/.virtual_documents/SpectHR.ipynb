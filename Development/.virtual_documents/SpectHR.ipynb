import spectHR as cs
import pyhrv
from ipywidgets import Tab, Output


cs.handler.show_logs()


DataSet = cs.SpectHRDataset("SUB_008.xdf", use_webdav=True)


DataSet = cs.borderData(DataSet)
#DataSet.ecg = DataSet.ecg.slicetime(500, 570)


DataSet = cs.filterECGData(DataSet, {"filterType": "highpass", "cutoff": .50})


DataSet = cs.calcPeaks(DataSet)


%matplotlib widget
GUI = cs.prepPlot(DataSet, 500, 520)


preProcessing =  Output()
with preProcessing:
    display(GUI)


poincarePlot = Output()


descriptives = Output()


import pyhrv
def helper_welch_psd(RTops = None, mode = 'dev'):
    titlestring = RTops['epoch'].iloc[0]
    res = None
    try:
        res = pyhrv.frequency_domain.welch_psd(RTops['ibi'])
    except:
        pass

    if res is not None:
        pfig = res['fft_plot']
        pfig.set_figwidth(12)
        pfig.set_figheight(5)
        pfig.get_axes()[0].set_title(titlestring)
        pfig.get_axes()[0].set_ylim(0,.1)

psdPlot = Output()


App = Tab(children=[preProcessing, poincarePlot, descriptives, psdPlot])

App.set_title(0, "PreProcessing")
App.set_title(1, "Poincare")
App.set_title(2, "descriptives")
App.set_title(3, "PSD")

def on_tab_change(change):
    if change['name'] == 'selected_index':
        if change['new'] == 1:  # Poincare selected
            with poincarePlot:
                poincarePlot.clear_output()
                display(cs.poincare(DataSet))
        if change['new'] == 2:  # descriptives selected
            with descriptives:
                descriptives.clear_output()
                display(DataSet.RTops.groupby('epoch')['ibi'].agg([len, 'mean', 'std', 'min', 'max', \
                                                                   pyhrv.time_domain.rmssd, pyhrv.time_domain.sdnn, \
                                                                   cs.Tools.Params.sdsd, \
                                                                   cs.Tools.Params.sd1, cs.Tools.Params.sd2, cs.Tools.Params.sd_ratio, \
                                                                   cs.Tools.Params.ellipse_area]))
        if change['new'] == 3:  # psd selected
            with psdPlot:
                psdPlot.clear_output()
                display(DataSet.RTops.groupby('epoch').apply(helper_welch_psd))

                
# Attach observer to detect tab switch
App.observe(on_tab_change, names='selected_index')



display(App)



