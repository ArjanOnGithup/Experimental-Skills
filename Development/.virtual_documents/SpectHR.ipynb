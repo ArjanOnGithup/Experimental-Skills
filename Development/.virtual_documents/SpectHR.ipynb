import spectHR as cs
import pyhrv


cs.handler.show_logs()


DataSet = cs.SpectHRDataset("Data/SUB_002.xdf", use_webdav=True)


DataSet = cs.borderData(DataSet)
#DataSet.ecg = DataSet.ecg.slicetime(500, 570)


DataSet = cs.filterECGData(DataSet, {"filterType": "highpass", "cutoff": .50})


DataSet = cs.calcPeaks(DataSet)


%matplotlib widget
GUI = cs.prepPlot(DataSet, 500, 570)


display(GUI)


ret = cs.poincare(DataSet, 0, 1500)


DataSet.RTops.groupby('epoch')['ibi'].describe()


DataSet.RTops.groupby('epoch')['ibi'].agg([len, pyhrv.time_domain.rmssd, pyhrv.time_domain.sdnn])


import pyhrv
def helper_welch_psd(RTops = None, mode = 'dev'):
    titlestring = RTops['epoch'].iloc[0]
    res = None
    try:
        res = pyhrv.frequency_domain.welch_psd(RTops['ibi'])
    except:
        pass

    if res is not None:
        pfig = res['fft_plot']
        pfig.get_axes()[0].set_title(titlestring)
        pfig.get_axes()[0].set_ylim(0,.1)

        
DataSet.RTops.groupby('epoch').apply(helper_welch_psd)




