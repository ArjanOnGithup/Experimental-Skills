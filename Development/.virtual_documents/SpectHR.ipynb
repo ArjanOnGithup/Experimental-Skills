import spectHR as cs
import pyhrv
cs.handler.show_logs()


DataSet = cs.SpectHRDataset("Example Data/SUB_002.xdf") 


DataSet = cs.borderData(DataSet)
#bDataSet.ecg = bDataSet.ecg.slicetime(500,2100)


DataSet = cs.filterECGData(DataSet, 
                          {'filterType': 'highpass', 
                           'cutoff': 1})


DataSet = cs.calcPeaks(DataSet)


%matplotlib widget
GUI = cs.spectplot(DataSet)


display(GUI)



