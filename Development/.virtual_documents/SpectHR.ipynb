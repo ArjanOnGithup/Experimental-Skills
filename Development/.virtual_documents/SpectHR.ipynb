import spectHR as cs
import pyhrv


cs.handler.show_logs()


DataSet = cs.SpectHRDataset("Example Data/SUB_003.xdf", use_webdav=True)


DataSet = cs.borderData(DataSet)
#DataSet.ecg = DataSet.ecg.slicetime(500, 570)


DataSet = cs.filterECGData(DataSet, {"filterType": "highpass", "cutoff": .50})


DataSet = cs.calcPeaks(DataSet)


%matplotlib widget
GUI = cs.prepPlot(DataSet, 500, 570)


display(GUI)


ret = cs.poincare(DataSet, 0, 1500)


DataSet.RTops.groupby('epoch')['ibi'].describe()


import pyhrv
def helper_welch_psd(RTops = None, mode = 'dev'):
    nni = RTops
    if(len(nni) > 10):
        pyhrv.frequency_domain.welch_psd(nni, mode)
    else:
        return None

DataSet.RTops.groupby('epoch')[['ibi', 'epoch']].agg([helper_welch_psd])
