import spectHR as cs
import pyhrv


cs.handler.show_logs()


DataSet = cs.SpectHRDataset("Example Data/SUB_003.xdf", use_webdav=True)


DataSet = cs.borderData(DataSet)
#DataSet.ecg = DataSet.ecg.slicetime(500, 570)


DataSet = cs.filterECGData(DataSet, {"filterType": "highpass", "cutoff": .50})


DataSet = cs.calcPeaks(DataSet)


%matplotlib widget
GUI = cs.prepPlot2(DataSet, 500, 570)


display(GUI)


ret = cs.poincare(DataSet, 0, 1200)


DataSet.RTops.groupby('epoch')['ibi'].describe()


ret.keys()



