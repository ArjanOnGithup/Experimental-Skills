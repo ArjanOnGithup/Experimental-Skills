{
 "cells": [
  {
   "cell_type": "code",
   "execution_count": 42,
   "id": "e1916303-d064-4ef6-8748-2815d7e848e1",
   "metadata": {
    "editable": true,
    "extensions": {
     "jupyter_dashboards": {
      "activeView": "grid_default",
      "views": {
       "grid_default": {
        "col": null,
        "height": 2,
        "hidden": true,
        "locked": true,
        "row": null,
        "width": 2
       }
      }
     }
    },
    "slideshow": {
     "slide_type": ""
    },
    "tags": []
   },
   "outputs": [
    {
     "data": {
      "application/vnd.jupyter.widget-view+json": {
       "model_id": "2674e45ff43c46768792f68772914b37",
       "version_major": 2,
       "version_minor": 0
      },
      "text/plain": [
       "Output(layout=Layout(border_bottom='1px solid black', border_left='1px solid black', border_right='1px solid b…"
      ]
     },
     "metadata": {},
     "output_type": "display_data"
    }
   ],
   "source": [
    "import spectHR as cs\n",
    "import pyhrv\n",
    "from ipywidgets import Tab, Output\n",
    "import matplotlib.pyplot as plt\n",
    "import pandas as pd\n",
    "\n",
    "plt.style.use('ggplot')\n",
    "cs.handler.show_logs()"
   ]
  },
  {
   "cell_type": "code",
   "execution_count": 44,
   "id": "f5cbc7fb-e9eb-49bb-a572-6a48029ccf86",
   "metadata": {
    "extensions": {
     "jupyter_dashboards": {
      "activeView": "grid_default",
      "views": {
       "grid_default": {
        "col": null,
        "height": 2,
        "hidden": true,
        "locked": true,
        "row": null,
        "width": 2
       }
      }
     }
    }
   },
   "outputs": [],
   "source": [
    "DataSet = cs.SpectHRDataset(\"SUB_005.xdf\", use_webdav=True, reset = False)\n",
    "DataSet = cs.borderData(DataSet)\n",
    "DataSet = cs.filterECGData(DataSet, {\"filterType\": \"highpass\", \"cutoff\": .50})\n",
    "if not hasattr(DataSet, 'RTops'):\n",
    "    DataSet = cs.calcPeaks(DataSet)"
   ]
  },
  {
   "cell_type": "code",
   "execution_count": 46,
   "id": "4673004f-f915-475f-a094-5d45ab8bf0f2",
   "metadata": {
    "extensions": {
     "jupyter_dashboards": {
      "activeView": "grid_default",
      "views": {
       "grid_default": {
        "col": 0,
        "height": 24,
        "hidden": false,
        "locked": true,
        "row": 0,
        "width": 12
       }
      }
     }
    }
   },
   "outputs": [
    {
     "data": {
      "application/vnd.jupyter.widget-view+json": {
       "model_id": "3221724c5cd84882b4a8d474930f9efd",
       "version_major": 2,
       "version_minor": 0
      },
      "text/plain": [
       "Tab(children=(Output(), Output(), Output(), Output(), Output()), selected_index=0, titles=('PreProcessing', 'P…"
      ]
     },
     "metadata": {},
     "output_type": "display_data"
    }
   ],
   "source": [
    "%matplotlib widget\n",
    "GUI = cs.prepPlot(DataSet)\n",
    "\n",
    "preProcessing =  Output()\n",
    "with preProcessing:\n",
    "    display(GUI)\n",
    "\n",
    "poincarePlot = Output()\n",
    "psdPlot = Output()\n",
    "descriptives = Output()\n",
    "Gantt = Output()\n",
    "\n",
    "import pandas as pd\n",
    "\n",
    "App = Tab(children=[preProcessing, poincarePlot, descriptives, psdPlot, Gantt])\n",
    "\n",
    "App.set_title(0, \"PreProcessing\")\n",
    "App.set_title(1, \"Poincare\")\n",
    "App.set_title(2, \"Descriptives\")\n",
    "App.set_title(3, \"PSD\")\n",
    "App.set_title(4, \"Epochs\")\n",
    "\n",
    "DataSet.psd_Values = pd.Series()\n",
    "DataSet.descriptives_Values = pd.Series()\n",
    "\n",
    "# This function is called everytime a tab is selected in the App. The value of change['new'] holds the index to the selected tab.\n",
    "def on_tab_change(change):\n",
    "    if change['name'] == 'selected_index':        \n",
    "        if change['new'] == 1:  # Poincare selected\n",
    "            with poincarePlot:\n",
    "                poincarePlot.clear_output()\n",
    "                display(cs.poincare(DataSet))\n",
    "            \n",
    "        if change['new'] == 2: # selected the descriptives tab\n",
    "            with descriptives:\n",
    "                descriptives.clear_output()\n",
    "                global descriptives_Values\n",
    "                DataSet.descriptives_Values = cs.explode(DataSet)\\\n",
    "                        .groupby('epoch')['ibi']\\\n",
    "                        .agg([\\\n",
    "                            ('N', len),\\\n",
    "                            ('mean', 'mean'),\\\n",
    "                            ('std', 'std'),\\\n",
    "                            ('min', 'min'),\\\n",
    "                            ('max', 'max'),\\\n",
    "                            ('rmssd', lambda x: pyhrv.time_domain.rmssd(x)[0]), \\\n",
    "                            ('sdnn', lambda x: pyhrv.time_domain.sdnn(x)[0]),\\\n",
    "                            ('sdsd', cs.Tools.Params.sdsd),\\\n",
    "                            ('sd1', cs.Tools.Params.sd1),\\\n",
    "                            ('sd2', cs.Tools.Params.sd2),\\\n",
    "                            ('sd_ratio', cs.Tools.Params.sd_ratio),\\\n",
    "                            ('ellipse_area', cs.ellipse_area)\\\n",
    "                        ])\n",
    "                display(DataSet.descriptives_Values)\n",
    "                \n",
    "        if change['new'] == 3:  # psd selected\n",
    "            with psdPlot:\n",
    "                psdPlot.clear_output()    \n",
    "                Data = cs.explode(DataSet)\n",
    "                DataSet.psd_Values = Data.groupby('epoch')[Data.columns.tolist()].apply(cs.welch_psd)\n",
    "                display(DataSet.psd_Values)\n",
    "\n",
    "        if change['new'] == 4:  # gantt selected \n",
    "            with Gantt:\n",
    "                Gantt.clear_output()\n",
    "                display(cs.gantt(DataSet, labels=False))\n",
    "                \n",
    "    DataSet.save()\n",
    "                \n",
    "# Attach observer to detect tab switch\n",
    "App.observe(on_tab_change, names='selected_index')\n",
    "\n",
    "display(App)"
   ]
  },
  {
   "cell_type": "code",
   "execution_count": 50,
   "id": "0d8eeba8-cf0c-43c8-8f92-f83454507c72",
   "metadata": {},
   "outputs": [],
   "source": [
    "df = pd.DataFrame(list(DataSet.psd_Values.dropna()))\n",
    "df['epoch'] = DataSet.psd_Values.dropna().index"
   ]
  },
  {
   "cell_type": "code",
   "execution_count": 52,
   "id": "13c8facb-876f-4371-a086-41dd8ffc9657",
   "metadata": {},
   "outputs": [
    {
     "data": {
      "text/html": [
       "<div>\n",
       "<style scoped>\n",
       "    .dataframe tbody tr th:only-of-type {\n",
       "        vertical-align: middle;\n",
       "    }\n",
       "\n",
       "    .dataframe tbody tr th {\n",
       "        vertical-align: top;\n",
       "    }\n",
       "\n",
       "    .dataframe thead th {\n",
       "        text-align: right;\n",
       "    }\n",
       "</style>\n",
       "<table border=\"1\" class=\"dataframe\">\n",
       "  <thead>\n",
       "    <tr style=\"text-align: right;\">\n",
       "      <th></th>\n",
       "      <th>VLF Power</th>\n",
       "      <th>LF Power</th>\n",
       "      <th>HF Power</th>\n",
       "      <th>LF/HF Ratio</th>\n",
       "      <th>epoch</th>\n",
       "    </tr>\n",
       "  </thead>\n",
       "  <tbody>\n",
       "    <tr>\n",
       "      <th>0</th>\n",
       "      <td>0.000418066882</td>\n",
       "      <td>0.000715733475</td>\n",
       "      <td>0.000549605374</td>\n",
       "      <td>1.302267970655</td>\n",
       "      <td>congruent</td>\n",
       "    </tr>\n",
       "    <tr>\n",
       "      <th>1</th>\n",
       "      <td>0.001404592979</td>\n",
       "      <td>0.001215593913</td>\n",
       "      <td>0.000779789127</td>\n",
       "      <td>1.558875175503</td>\n",
       "      <td>incongruent</td>\n",
       "    </tr>\n",
       "    <tr>\n",
       "      <th>2</th>\n",
       "      <td>0.000095451505</td>\n",
       "      <td>0.000147877932</td>\n",
       "      <td>0.000294239082</td>\n",
       "      <td>0.502577464967</td>\n",
       "      <td>names</td>\n",
       "    </tr>\n",
       "    <tr>\n",
       "      <th>3</th>\n",
       "      <td>0.000171365691</td>\n",
       "      <td>0.000611848688</td>\n",
       "      <td>0.000361344138</td>\n",
       "      <td>1.693257544732</td>\n",
       "      <td>words</td>\n",
       "    </tr>\n",
       "  </tbody>\n",
       "</table>\n",
       "</div>"
      ],
      "text/plain": [
       "        VLF Power        LF Power        HF Power     LF/HF Ratio        epoch\n",
       "0  0.000418066882  0.000715733475  0.000549605374  1.302267970655    congruent\n",
       "1  0.001404592979  0.001215593913  0.000779789127  1.558875175503  incongruent\n",
       "2  0.000095451505  0.000147877932  0.000294239082  0.502577464967        names\n",
       "3  0.000171365691  0.000611848688  0.000361344138  1.693257544732        words"
      ]
     },
     "execution_count": 52,
     "metadata": {},
     "output_type": "execute_result"
    }
   ],
   "source": [
    "pd.set_option('display.precision', 12)\n",
    "df"
   ]
  },
  {
   "cell_type": "code",
   "execution_count": 54,
   "id": "855c6889-d1f2-40ee-81ea-64ed68b7491d",
   "metadata": {},
   "outputs": [
    {
     "data": {
      "text/html": [
       "<div>\n",
       "<style scoped>\n",
       "    .dataframe tbody tr th:only-of-type {\n",
       "        vertical-align: middle;\n",
       "    }\n",
       "\n",
       "    .dataframe tbody tr th {\n",
       "        vertical-align: top;\n",
       "    }\n",
       "\n",
       "    .dataframe thead th {\n",
       "        text-align: right;\n",
       "    }\n",
       "</style>\n",
       "<table border=\"1\" class=\"dataframe\">\n",
       "  <thead>\n",
       "    <tr style=\"text-align: right;\">\n",
       "      <th></th>\n",
       "      <th>epoch</th>\n",
       "      <th>N</th>\n",
       "      <th>mean</th>\n",
       "      <th>std</th>\n",
       "      <th>min</th>\n",
       "      <th>max</th>\n",
       "      <th>rmssd</th>\n",
       "      <th>sdnn</th>\n",
       "      <th>sdsd</th>\n",
       "      <th>sd1</th>\n",
       "      <th>sd2</th>\n",
       "      <th>sd_ratio</th>\n",
       "      <th>ellipse_area</th>\n",
       "      <th>VLF Power</th>\n",
       "      <th>LF Power</th>\n",
       "      <th>HF Power</th>\n",
       "      <th>LF/HF Ratio</th>\n",
       "    </tr>\n",
       "  </thead>\n",
       "  <tbody>\n",
       "    <tr>\n",
       "      <th>0</th>\n",
       "      <td>congruent</td>\n",
       "      <td>641</td>\n",
       "      <td>0.80440196</td>\n",
       "      <td>0.05691557</td>\n",
       "      <td>0.61355615</td>\n",
       "      <td>0.97339411</td>\n",
       "      <td>41.73476518</td>\n",
       "      <td>56.91338610</td>\n",
       "      <td>25.38285175</td>\n",
       "      <td>29.51412308</td>\n",
       "      <td>74.60880761</td>\n",
       "      <td>0.39558497</td>\n",
       "      <td>6917.82953153</td>\n",
       "      <td>0.00041807</td>\n",
       "      <td>0.00071573</td>\n",
       "      <td>0.00054961</td>\n",
       "      <td>1.30226797</td>\n",
       "    </tr>\n",
       "    <tr>\n",
       "      <th>1</th>\n",
       "      <td>incongruent</td>\n",
       "      <td>574</td>\n",
       "      <td>0.78721678</td>\n",
       "      <td>0.08429569</td>\n",
       "      <td>0.59061920</td>\n",
       "      <td>0.99802798</td>\n",
       "      <td>48.36582527</td>\n",
       "      <td>84.29319781</td>\n",
       "      <td>31.81420122</td>\n",
       "      <td>34.18588478</td>\n",
       "      <td>114.19829165</td>\n",
       "      <td>0.29935548</td>\n",
       "      <td>12264.68234282</td>\n",
       "      <td>0.00140459</td>\n",
       "      <td>0.00121559</td>\n",
       "      <td>0.00077979</td>\n",
       "      <td>1.55887518</td>\n",
       "    </tr>\n",
       "    <tr>\n",
       "      <th>2</th>\n",
       "      <td>names</td>\n",
       "      <td>182</td>\n",
       "      <td>0.81933993</td>\n",
       "      <td>0.03299007</td>\n",
       "      <td>0.75055472</td>\n",
       "      <td>0.90920957</td>\n",
       "      <td>34.27126109</td>\n",
       "      <td>32.98280921</td>\n",
       "      <td>20.45985454</td>\n",
       "      <td>24.24049649</td>\n",
       "      <td>39.78469586</td>\n",
       "      <td>0.60929199</td>\n",
       "      <td>3029.75440634</td>\n",
       "      <td>0.00009545</td>\n",
       "      <td>0.00014788</td>\n",
       "      <td>0.00029424</td>\n",
       "      <td>0.50257746</td>\n",
       "    </tr>\n",
       "    <tr>\n",
       "      <th>3</th>\n",
       "      <td>words</td>\n",
       "      <td>173</td>\n",
       "      <td>0.78849094</td>\n",
       "      <td>0.04726513</td>\n",
       "      <td>0.64568929</td>\n",
       "      <td>0.88299081</td>\n",
       "      <td>34.32115762</td>\n",
       "      <td>47.24250859</td>\n",
       "      <td>20.37462616</td>\n",
       "      <td>24.26481240</td>\n",
       "      <td>61.83255652</td>\n",
       "      <td>0.39242777</td>\n",
       "      <td>4713.50545262</td>\n",
       "      <td>0.00017137</td>\n",
       "      <td>0.00061185</td>\n",
       "      <td>0.00036134</td>\n",
       "      <td>1.69325754</td>\n",
       "    </tr>\n",
       "  </tbody>\n",
       "</table>\n",
       "</div>"
      ],
      "text/plain": [
       "         epoch    N        mean         std         min         max  \\\n",
       "0    congruent  641  0.80440196  0.05691557  0.61355615  0.97339411   \n",
       "1  incongruent  574  0.78721678  0.08429569  0.59061920  0.99802798   \n",
       "2        names  182  0.81933993  0.03299007  0.75055472  0.90920957   \n",
       "3        words  173  0.78849094  0.04726513  0.64568929  0.88299081   \n",
       "\n",
       "         rmssd         sdnn         sdsd          sd1           sd2  \\\n",
       "0  41.73476518  56.91338610  25.38285175  29.51412308   74.60880761   \n",
       "1  48.36582527  84.29319781  31.81420122  34.18588478  114.19829165   \n",
       "2  34.27126109  32.98280921  20.45985454  24.24049649   39.78469586   \n",
       "3  34.32115762  47.24250859  20.37462616  24.26481240   61.83255652   \n",
       "\n",
       "     sd_ratio    ellipse_area   VLF Power    LF Power    HF Power  LF/HF Ratio  \n",
       "0  0.39558497   6917.82953153  0.00041807  0.00071573  0.00054961   1.30226797  \n",
       "1  0.29935548  12264.68234282  0.00140459  0.00121559  0.00077979   1.55887518  \n",
       "2  0.60929199   3029.75440634  0.00009545  0.00014788  0.00029424   0.50257746  \n",
       "3  0.39242777   4713.50545262  0.00017137  0.00061185  0.00036134   1.69325754  "
      ]
     },
     "execution_count": 54,
     "metadata": {},
     "output_type": "execute_result"
    }
   ],
   "source": [
    "pd.set_option('display.precision', 8)\n",
    "pd.merge(DataSet.descriptives_Values, df, on = 'epoch', how='outer')"
   ]
  },
  {
   "cell_type": "code",
   "execution_count": null,
   "id": "9bbf1f5b-3caa-49f7-8147-6cbb1b94591e",
   "metadata": {},
   "outputs": [],
   "source": []
  }
 ],
 "metadata": {
  "extensions": {
   "jupyter_dashboards": {
    "activeView": "grid_default",
    "version": 1,
    "views": {
     "grid_default": {
      "cellMargin": 0,
      "defaultCellHeight": 40,
      "maxColumns": 12,
      "name": "spectHR",
      "type": "grid"
     }
    }
   }
  },
  "kernelspec": {
   "display_name": "Python 3 (ipykernel)",
   "language": "python",
   "name": "python3"
  },
  "language_info": {
   "codemirror_mode": {
    "name": "ipython",
    "version": 3
   },
   "file_extension": ".py",
   "mimetype": "text/x-python",
   "name": "python",
   "nbconvert_exporter": "python",
   "pygments_lexer": "ipython3",
   "version": "3.12.7"
  }
 },
 "nbformat": 4,
 "nbformat_minor": 5
}
