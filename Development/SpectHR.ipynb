{
 "cells": [
  {
   "cell_type": "code",
   "execution_count": 1,
   "id": "6730ca40-d2d9-4756-bf70-112fd12f2d39",
   "metadata": {
    "editable": true,
    "extensions": {
     "jupyter_dashboards": {
      "activeView": "grid_default",
      "views": {
       "grid_default": {
        "col": 0,
        "height": 3,
        "hidden": true,
        "locked": true,
        "row": 0,
        "width": 12
       }
      }
     }
    },
    "slideshow": {
     "slide_type": ""
    },
    "tags": []
   },
   "outputs": [],
   "source": [
    "import spectHR as cs\n",
    "import pyhrv\n",
    "from ipywidgets import Tab, Output"
   ]
  },
  {
   "cell_type": "code",
   "execution_count": 2,
   "id": "5e275f5f-da3b-4ed2-bb1c-5909ec820cf6",
   "metadata": {
    "editable": true,
    "extensions": {
     "jupyter_dashboards": {
      "activeView": "grid_default",
      "views": {
       "grid_default": {
        "col": null,
        "height": 2,
        "hidden": true,
        "locked": true,
        "row": null,
        "width": 2
       }
      }
     }
    },
    "slideshow": {
     "slide_type": ""
    },
    "tags": []
   },
   "outputs": [
    {
     "data": {
      "application/vnd.jupyter.widget-view+json": {
       "model_id": "6c7f611c0c8643fd881c8b9b8f35fa17",
       "version_major": 2,
       "version_minor": 0
      },
      "text/plain": [
       "Output(layout=Layout(border_bottom='1px solid black', border_left='1px solid black', border_right='1px solid b…"
      ]
     },
     "metadata": {},
     "output_type": "display_data"
    }
   ],
   "source": [
    "cs.handler.show_logs()"
   ]
  },
  {
   "cell_type": "code",
   "execution_count": 3,
   "id": "4712a4a2-7168-446a-9a8d-2f10690ce4ea",
   "metadata": {
    "extensions": {
     "jupyter_dashboards": {
      "activeView": "grid_default",
      "views": {
       "grid_default": {
        "col": null,
        "height": 2,
        "hidden": true,
        "locked": true,
        "row": null,
        "width": 2
       }
      }
     }
    }
   },
   "outputs": [],
   "source": [
    "DataSet = cs.SpectHRDataset(\"SUB_008.xdf\", use_webdav=True)"
   ]
  },
  {
   "cell_type": "code",
   "execution_count": 4,
   "id": "9eb99c71-c3eb-49bc-8182-40dcda417b76",
   "metadata": {
    "editable": true,
    "extensions": {
     "jupyter_dashboards": {
      "activeView": "grid_default",
      "views": {
       "grid_default": {
        "col": null,
        "height": 2,
        "hidden": true,
        "locked": true,
        "row": null,
        "width": 2
       }
      }
     }
    },
    "slideshow": {
     "slide_type": ""
    },
    "tags": []
   },
   "outputs": [],
   "source": [
    "DataSet = cs.borderData(DataSet)\n",
    "#DataSet.ecg = DataSet.ecg.slicetime(500, 570)"
   ]
  },
  {
   "cell_type": "code",
   "execution_count": 5,
   "id": "0304164f-5e9b-43fb-a41a-6e2be4dd5e77",
   "metadata": {
    "editable": true,
    "extensions": {
     "jupyter_dashboards": {
      "activeView": "grid_default",
      "views": {
       "grid_default": {
        "col": null,
        "height": 2,
        "hidden": true,
        "locked": true,
        "row": null,
        "width": 2
       }
      }
     }
    },
    "slideshow": {
     "slide_type": ""
    },
    "tags": []
   },
   "outputs": [],
   "source": [
    "DataSet = cs.filterECGData(DataSet, {\"filterType\": \"highpass\", \"cutoff\": .50})"
   ]
  },
  {
   "cell_type": "code",
   "execution_count": 6,
   "id": "63639526-8cef-4212-8955-aed0a5418fdb",
   "metadata": {
    "extensions": {
     "jupyter_dashboards": {
      "activeView": "grid_default",
      "views": {
       "grid_default": {
        "col": null,
        "height": 2,
        "hidden": true,
        "locked": true,
        "row": null,
        "width": 2
       }
      }
     }
    }
   },
   "outputs": [],
   "source": [
    "DataSet = cs.calcPeaks(DataSet)"
   ]
  },
  {
   "cell_type": "code",
   "execution_count": 7,
   "id": "8ab0b98e-9886-41df-a5ee-0e2814efa978",
   "metadata": {
    "editable": true,
    "extensions": {
     "jupyter_dashboards": {
      "activeView": "grid_default",
      "views": {
       "grid_default": {
        "col": null,
        "height": 2,
        "hidden": true,
        "locked": true,
        "row": null,
        "width": 2
       }
      }
     }
    },
    "slideshow": {
     "slide_type": ""
    },
    "tags": []
   },
   "outputs": [],
   "source": [
    "%matplotlib widget\n",
    "GUI = cs.prepPlot(DataSet, 500, 520)"
   ]
  },
  {
   "cell_type": "code",
   "execution_count": 8,
   "id": "d08301ee",
   "metadata": {
    "editable": true,
    "extensions": {
     "jupyter_dashboards": {
      "activeView": "grid_default",
      "views": {
       "grid_default": {
        "col": 0,
        "height": 16,
        "hidden": true,
        "locked": true,
        "row": 0,
        "width": 12
       }
      }
     }
    },
    "slideshow": {
     "slide_type": ""
    },
    "tags": []
   },
   "outputs": [],
   "source": [
    "preProcessing =  Output()\n",
    "with preProcessing:\n",
    "    display(GUI)"
   ]
  },
  {
   "cell_type": "code",
   "execution_count": 9,
   "id": "ac7d8d46-664d-46b5-9da9-82dea95521ba",
   "metadata": {
    "extensions": {
     "jupyter_dashboards": {
      "activeView": "grid_default",
      "views": {
       "grid_default": {
        "col": null,
        "height": 2,
        "hidden": true,
        "locked": true,
        "row": null,
        "width": 2
       }
      }
     }
    }
   },
   "outputs": [],
   "source": [
    "poincarePlot = Output()"
   ]
  },
  {
   "cell_type": "code",
   "execution_count": 10,
   "id": "908635d1-dd02-4e5a-9a94-3488950a3d57",
   "metadata": {
    "extensions": {
     "jupyter_dashboards": {
      "activeView": "grid_default",
      "views": {
       "grid_default": {
        "col": null,
        "height": 2,
        "hidden": true,
        "locked": true,
        "row": null,
        "width": 2
       }
      }
     }
    }
   },
   "outputs": [],
   "source": [
    "descriptives = Output()"
   ]
  },
  {
   "cell_type": "code",
   "execution_count": 11,
   "id": "e3ccf81c-3110-4893-a572-01bcfef5f50c",
   "metadata": {
    "extensions": {
     "jupyter_dashboards": {
      "activeView": "grid_default",
      "views": {
       "grid_default": {
        "col": null,
        "height": 2,
        "hidden": true,
        "locked": true,
        "row": null,
        "width": 2
       }
      }
     }
    }
   },
   "outputs": [],
   "source": [
    "import pyhrv\n",
    "def helper_welch_psd(RTops = None, mode = 'dev'):\n",
    "    titlestring = RTops['epoch'].iloc[0]\n",
    "    res = None\n",
    "    try:\n",
    "        res = pyhrv.frequency_domain.welch_psd(RTops['ibi'])\n",
    "    except:\n",
    "        pass\n",
    "\n",
    "    if res is not None:\n",
    "        pfig = res['fft_plot']\n",
    "        pfig.set_figwidth(12)\n",
    "        pfig.set_figheight(5)\n",
    "        pfig.get_axes()[0].set_title(titlestring)\n",
    "        pfig.get_axes()[0].set_ylim(0,.1)\n",
    "\n",
    "psdPlot = Output()"
   ]
  },
  {
   "cell_type": "code",
   "execution_count": 12,
   "id": "7ff55b97-ee9e-47f5-80f4-fa12d0e6958f",
   "metadata": {
    "extensions": {
     "jupyter_dashboards": {
      "activeView": "grid_default",
      "views": {
       "grid_default": {
        "col": null,
        "height": 2,
        "hidden": true,
        "locked": true,
        "row": null,
        "width": 2
       }
      }
     }
    }
   },
   "outputs": [],
   "source": [
    "App = Tab(children=[preProcessing, poincarePlot, descriptives, psdPlot])\n",
    "\n",
    "App.set_title(0, \"PreProcessing\")\n",
    "App.set_title(1, \"Poincare\")\n",
    "App.set_title(2, \"descriptives\")\n",
    "App.set_title(3, \"PSD\")\n",
    "\n",
    "def on_tab_change(change):\n",
    "    if change['name'] == 'selected_index':\n",
    "        if change['new'] == 1:  # Poincare selected\n",
    "            with poincarePlot:\n",
    "                poincarePlot.clear_output()\n",
    "                display(cs.poincare(DataSet))\n",
    "        if change['new'] == 2:  # descriptives selected\n",
    "            with descriptives:\n",
    "                descriptives.clear_output()\n",
    "                display(DataSet.RTops.groupby('epoch')['ibi'].agg([len, 'mean', 'std', 'min', 'max', \\\n",
    "                                                                   pyhrv.time_domain.rmssd, pyhrv.time_domain.sdnn, \\\n",
    "                                                                   cs.Tools.Params.sdsd, \\\n",
    "                                                                   cs.Tools.Params.sd1, cs.Tools.Params.sd2, cs.Tools.Params.sd_ratio, \\\n",
    "                                                                   cs.Tools.Params.ellipse_area]))\n",
    "        if change['new'] == 3:  # psd selected\n",
    "            with psdPlot:\n",
    "                psdPlot.clear_output()\n",
    "                display(DataSet.RTops.groupby('epoch').apply(helper_welch_psd))\n",
    "\n",
    "                \n",
    "# Attach observer to detect tab switch\n",
    "App.observe(on_tab_change, names='selected_index')\n"
   ]
  },
  {
   "cell_type": "code",
   "execution_count": 13,
   "id": "0cc17033-821a-49ef-80a9-070fbc84db7a",
   "metadata": {
    "extensions": {
     "jupyter_dashboards": {
      "activeView": "grid_default",
      "views": {
       "grid_default": {
        "col": 0,
        "height": 17,
        "hidden": false,
        "locked": true,
        "row": 0,
        "width": 6
       }
      }
     }
    }
   },
   "outputs": [
    {
     "data": {
      "application/vnd.jupyter.widget-view+json": {
       "model_id": "d51b543f0af14818b839a01da7f7441b",
       "version_major": 2,
       "version_minor": 0
      },
      "text/plain": [
       "Tab(children=(Output(), Output(), Output(), Output()), selected_index=0, titles=('PreProcessing', 'Poincare', …"
      ]
     },
     "metadata": {},
     "output_type": "display_data"
    }
   ],
   "source": [
    "display(App)"
   ]
  },
  {
   "cell_type": "code",
   "execution_count": null,
   "id": "07709050-9987-4551-b1e3-d2449e87e8bf",
   "metadata": {},
   "outputs": [],
   "source": []
  }
 ],
 "metadata": {
  "extensions": {
   "jupyter_dashboards": {
    "activeView": "grid_default",
    "version": 1,
    "views": {
     "grid_default": {
      "cellMargin": 0,
      "defaultCellHeight": 40,
      "maxColumns": 12,
      "name": "spectHR",
      "type": "grid"
     }
    }
   }
  },
  "kernelspec": {
   "display_name": "Python 3 (ipykernel)",
   "language": "python",
   "name": "python3"
  },
  "language_info": {
   "codemirror_mode": {
    "name": "ipython",
    "version": 3
   },
   "file_extension": ".py",
   "mimetype": "text/x-python",
   "name": "python",
   "nbconvert_exporter": "python",
   "pygments_lexer": "ipython3",
   "version": "3.12.3"
  }
 },
 "nbformat": 4,
 "nbformat_minor": 5
}
