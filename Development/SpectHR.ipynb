{
 "cells": [
  {
   "cell_type": "code",
   "execution_count": 2,
   "id": "e1916303-d064-4ef6-8748-2815d7e848e1",
   "metadata": {
    "editable": true,
    "extensions": {
     "jupyter_dashboards": {
      "activeView": "grid_default",
      "views": {
       "grid_default": {
        "col": null,
        "height": 2,
        "hidden": true,
        "locked": true,
        "row": null,
        "width": 2
       }
      }
     }
    },
    "slideshow": {
     "slide_type": ""
    },
    "tags": []
   },
   "outputs": [
    {
     "data": {
      "application/vnd.jupyter.widget-view+json": {
       "model_id": "57d8951e41b1402f8033fe3bb3630e8e",
       "version_major": 2,
       "version_minor": 0
      },
      "text/plain": [
       "Output(layout=Layout(border_bottom='1px solid black', border_left='1px solid black', border_right='1px solid b…"
      ]
     },
     "metadata": {},
     "output_type": "display_data"
    }
   ],
   "source": [
    "import spectHR as cs\n",
    "import pyhrv\n",
    "from ipywidgets import Tab, Output\n",
    "import matplotlib.pyplot as plt\n",
    "import pandas as pd\n",
    "\n",
    "plt.style.use('ggplot')\n",
    "cs.handler.show_logs()"
   ]
  },
  {
   "cell_type": "code",
   "execution_count": 3,
   "id": "f5cbc7fb-e9eb-49bb-a572-6a48029ccf86",
   "metadata": {
    "extensions": {
     "jupyter_dashboards": {
      "activeView": "grid_default",
      "views": {
       "grid_default": {
        "col": null,
        "height": 2,
        "hidden": true,
        "locked": true,
        "row": null,
        "width": 2
       }
      }
     }
    }
   },
   "outputs": [],
   "source": [
    "DataSet = cs.SpectHRDataset(\"SUB_005.xdf\", use_webdav=True, reset = False)\n",
    "DataSet = cs.borderData(DataSet)\n",
    "DataSet = cs.filterECGData(DataSet, {\"filterType\": \"highpass\", \"cutoff\": .50})\n",
    "if not hasattr(DataSet, 'RTops'):\n",
    "    DataSet = cs.calcPeaks(DataSet)"
   ]
  },
  {
   "cell_type": "code",
   "execution_count": 4,
   "id": "4673004f-f915-475f-a094-5d45ab8bf0f2",
   "metadata": {
    "extensions": {
     "jupyter_dashboards": {
      "activeView": "grid_default",
      "views": {
       "grid_default": {
        "col": 0,
        "height": 23,
        "hidden": false,
        "locked": true,
        "row": 0,
        "width": 12
       }
      }
     }
    }
   },
   "outputs": [
    {
     "data": {
      "application/vnd.jupyter.widget-view+json": {
       "model_id": "80e3d4a763664fe5a38d0e9cb91effc4",
       "version_major": 2,
       "version_minor": 0
      },
      "text/plain": [
       "Tab(children=(Output(), Output(), Output(), Output(), Output()), selected_index=0, titles=('PreProcessing', 'P…"
      ]
     },
     "metadata": {},
     "output_type": "display_data"
    }
   ],
   "source": [
    "%matplotlib widget\n",
    "GUI = cs.prepPlot(DataSet, 500, 700)\n",
    "\n",
    "preProcessing =  Output()\n",
    "with preProcessing:\n",
    "    display(GUI)\n",
    "\n",
    "poincarePlot = Output()\n",
    "psdPlot = Output()\n",
    "descriptives = Output()\n",
    "Gantt = Output()\n",
    "\n",
    "import pandas as pd\n",
    "\n",
    "App = Tab(children=[preProcessing, poincarePlot, descriptives, psdPlot, Gantt])\n",
    "\n",
    "App.set_title(0, \"PreProcessing\")\n",
    "App.set_title(1, \"Poincare\")\n",
    "App.set_title(2, \"Descriptives\")\n",
    "App.set_title(3, \"PSD\")\n",
    "App.set_title(4, \"Epochs\")\n",
    "\n",
    "DataSet.psd_Values = pd.Series()\n",
    "DataSet.descriptives_Values = pd.Series()\n",
    "\n",
    "# This function is called everytime a tab is selected in the App. The value of change['new'] holds the index to the selected tab.\n",
    "def on_tab_change(change):\n",
    "    if change['name'] == 'selected_index':        \n",
    "        if change['new'] == 1:  # Poincare selected\n",
    "            with poincarePlot:\n",
    "                poincarePlot.clear_output()\n",
    "                display(cs.poincare(DataSet))\n",
    "            \n",
    "        if change['new'] == 2: # selected the descriptives tab\n",
    "            with descriptives:\n",
    "                descriptives.clear_output()\n",
    "                global descriptives_Values\n",
    "                DataSet.descriptives_Values = cs.explode(DataSet)\\\n",
    "                        .groupby('epoch')['ibi']\\\n",
    "                        .agg([\\\n",
    "                            ('N', len),\\\n",
    "                            ('mean', 'mean'),\\\n",
    "                            ('std', 'std'),\\\n",
    "                            ('min', 'min'),\\\n",
    "                            ('max', 'max'),\\\n",
    "                            ('rmssd', lambda x: pyhrv.time_domain.rmssd(x)[0]), \\\n",
    "                            ('sdnn', lambda x: pyhrv.time_domain.sdnn(x)[0]),\\\n",
    "                            ('sdsd', cs.Tools.Params.sdsd),\\\n",
    "                            ('sd1', cs.Tools.Params.sd1),\\\n",
    "                            ('sd2', cs.Tools.Params.sd2),\\\n",
    "                            ('sd_ratio', cs.Tools.Params.sd_ratio),\\\n",
    "                            ('ellipse_area', cs.ellipse_area)\\\n",
    "                        ])\n",
    "                if hasattr(DataSet, 'psd_Values'):\n",
    "                    df = pd.DataFrame(list(DataSet.psd_Values.dropna()))\n",
    "                    df['epoch'] = DataSet.psd_Values.dropna().index\n",
    "                    pd.set_option('display.precision', 8)\n",
    "                    DataSet.descriptives_Values = pd.merge(DataSet.descriptives_Values, df, on = 'epoch', how='outer')\n",
    "                display(DataSet.descriptives_Values)\n",
    "                \n",
    "        if change['new'] == 3:  # psd selected\n",
    "            with psdPlot:\n",
    "                psdPlot.clear_output()    \n",
    "                Data = cs.explode(DataSet)\n",
    "                DataSet.psd_Values = Data.groupby('epoch')[Data.columns.tolist()].apply(cs.welch_psd, nperseg = 256, noverlap = 128)\n",
    "                #display(DataSet.psd_Values)\n",
    "\n",
    "        if change['new'] == 4:  # gantt selected \n",
    "            with Gantt:\n",
    "                Gantt.clear_output()\n",
    "                display(cs.gantt(DataSet, labels=False))\n",
    "                \n",
    "    DataSet.save()\n",
    "                \n",
    "# Attach observer to detect tab switch\n",
    "App.observe(on_tab_change, names='selected_index')\n",
    "\n",
    "display(App)"
   ]
  },
  {
   "cell_type": "code",
   "execution_count": null,
   "id": "ab99aa5f-f456-4e8b-899c-a690725bc8e4",
   "metadata": {
    "extensions": {
     "jupyter_dashboards": {
      "activeView": "grid_default",
      "views": {
       "grid_default": {
        "col": null,
        "height": 2,
        "hidden": true,
        "locked": true,
        "row": null,
        "width": 2
       }
      }
     }
    }
   },
   "outputs": [],
   "source": []
  }
 ],
 "metadata": {
  "extensions": {
   "jupyter_dashboards": {
    "activeView": "grid_default",
    "version": 1,
    "views": {
     "grid_default": {
      "cellMargin": 0,
      "defaultCellHeight": 40,
      "maxColumns": 12,
      "name": "spectHR",
      "type": "grid"
     }
    }
   }
  },
  "kernelspec": {
   "display_name": "Python 3 (ipykernel)",
   "language": "python",
   "name": "python3"
  },
  "language_info": {
   "codemirror_mode": {
    "name": "ipython",
    "version": 3
   },
   "file_extension": ".py",
   "mimetype": "text/x-python",
   "name": "python",
   "nbconvert_exporter": "python",
   "pygments_lexer": "ipython3",
   "version": "3.12.7"
  }
 },
 "nbformat": 4,
 "nbformat_minor": 5
}
