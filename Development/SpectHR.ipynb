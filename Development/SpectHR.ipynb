{
 "cells": [
  {
   "cell_type": "code",
   "execution_count": 1,
   "id": "6730ca40-d2d9-4756-bf70-112fd12f2d39",
   "metadata": {
    "editable": true,
    "extensions": {
     "jupyter_dashboards": {
      "activeView": "grid_default",
      "views": {
       "grid_default": {
        "col": 0,
        "height": 3,
        "hidden": false,
        "locked": true,
        "row": 0,
        "width": 12
       }
      }
     }
    },
    "slideshow": {
     "slide_type": ""
    },
    "tags": []
   },
   "outputs": [],
   "source": [
    "import spectHR as cs\n",
    "import pyhrv"
   ]
  },
  {
   "cell_type": "code",
   "execution_count": 2,
   "id": "4712a4a2-7168-446a-9a8d-2f10690ce4ea",
   "metadata": {
    "extensions": {
     "jupyter_dashboards": {
      "activeView": "grid_default",
      "views": {
       "grid_default": {
        "col": null,
        "height": 2,
        "hidden": true,
        "locked": true,
        "row": null,
        "width": 2
       }
      }
     }
    }
   },
   "outputs": [],
   "source": [
    "DataSet = cs.SpectHRDataset(\"Example Data/SUB_002.xdf\")"
   ]
  },
  {
   "cell_type": "code",
   "execution_count": 3,
   "id": "9eb99c71-c3eb-49bc-8182-40dcda417b76",
   "metadata": {
    "editable": true,
    "extensions": {
     "jupyter_dashboards": {
      "activeView": "grid_default",
      "views": {
       "grid_default": {
        "col": null,
        "height": 2,
        "hidden": true,
        "locked": true,
        "row": null,
        "width": 2
       }
      }
     }
    },
    "slideshow": {
     "slide_type": ""
    },
    "tags": []
   },
   "outputs": [],
   "source": [
    "DataSet = cs.borderData(DataSet)\n",
    "#DataSet.ecg = DataSet.ecg.slicetime(500, 515)"
   ]
  },
  {
   "cell_type": "code",
   "execution_count": 4,
   "id": "0304164f-5e9b-43fb-a41a-6e2be4dd5e77",
   "metadata": {
    "editable": true,
    "extensions": {
     "jupyter_dashboards": {
      "activeView": "grid_default",
      "views": {
       "grid_default": {
        "col": null,
        "height": 2,
        "hidden": true,
        "locked": true,
        "row": null,
        "width": 2
       }
      }
     }
    },
    "slideshow": {
     "slide_type": ""
    },
    "tags": []
   },
   "outputs": [],
   "source": [
    "DataSet = cs.filterECGData(DataSet, {\"filterType\": \"highpass\", \"cutoff\": .50})"
   ]
  },
  {
   "cell_type": "code",
   "execution_count": 5,
   "id": "63639526-8cef-4212-8955-aed0a5418fdb",
   "metadata": {
    "extensions": {
     "jupyter_dashboards": {
      "activeView": "grid_default",
      "views": {
       "grid_default": {
        "col": null,
        "height": 2,
        "hidden": true,
        "locked": true,
        "row": null,
        "width": 2
       }
      }
     }
    }
   },
   "outputs": [],
   "source": [
    "DataSet = cs.calcPeaks(DataSet)"
   ]
  },
  {
   "cell_type": "code",
   "execution_count": 6,
   "id": "8ab0b98e-9886-41df-a5ee-0e2814efa978",
   "metadata": {
    "editable": true,
    "extensions": {
     "jupyter_dashboards": {
      "activeView": "grid_default",
      "views": {
       "grid_default": {
        "col": null,
        "height": 2,
        "hidden": true,
        "locked": true,
        "row": null,
        "width": 2
       }
      }
     }
    },
    "slideshow": {
     "slide_type": ""
    },
    "tags": []
   },
   "outputs": [],
   "source": [
    "%matplotlib widget\n",
    "GUI = cs.prepPlot(DataSet, 500, 600)"
   ]
  },
  {
   "cell_type": "code",
   "execution_count": 7,
   "id": "d08301ee",
   "metadata": {
    "editable": true,
    "extensions": {
     "jupyter_dashboards": {
      "activeView": "grid_default",
      "views": {
       "grid_default": {
        "col": 0,
        "height": 16,
        "hidden": false,
        "locked": true,
        "row": 3,
        "width": 12
       }
      }
     }
    },
    "slideshow": {
     "slide_type": ""
    },
    "tags": []
   },
   "outputs": [
    {
     "data": {
      "application/vnd.jupyter.widget-view+json": {
       "model_id": "2fa916c0619543a88dfeb51b42e3dc60",
       "version_major": 2,
       "version_minor": 0
      },
      "text/plain": [
       "AppLayout(children=(HBox(children=(Select(class_='ma-2', color='primary', items=['Drag', 'Add', 'Find', 'Remov…"
      ]
     },
     "metadata": {},
     "output_type": "display_data"
    }
   ],
   "source": [
    "display(GUI)"
   ]
  },
  {
   "cell_type": "code",
   "execution_count": 8,
   "id": "5e275f5f-da3b-4ed2-bb1c-5909ec820cf6",
   "metadata": {
    "editable": true,
    "slideshow": {
     "slide_type": ""
    },
    "tags": []
   },
   "outputs": [
    {
     "data": {
      "application/vnd.jupyter.widget-view+json": {
       "model_id": "987c75590be44920aa5994259e1e3c9f",
       "version_major": 2,
       "version_minor": 0
      },
      "text/plain": [
       "Output(layout=Layout(border_bottom='1px solid black', border_left='1px solid black', border_right='1px solid b…"
      ]
     },
     "metadata": {},
     "output_type": "display_data"
    }
   ],
   "source": [
    "cs.handler.show_logs()"
   ]
  },
  {
   "cell_type": "code",
   "execution_count": 9,
   "id": "5e063948-a7cf-40ec-8148-eec716d74f80",
   "metadata": {
    "editable": true,
    "slideshow": {
     "slide_type": ""
    },
    "tags": []
   },
   "outputs": [
    {
     "name": "stdout",
     "output_type": "stream",
     "text": [
      "             time ID       ibi\n",
      "0      411.122864  N  0.621008\n",
      "1      411.743872  N  0.603584\n",
      "2      412.347456  N  0.602682\n",
      "3      412.950139  N  0.588900\n",
      "4      413.539039  N  0.585735\n",
      "...           ... ..       ...\n",
      "2583  2352.170497  N  0.654699\n",
      "2584  2352.825196  N  0.628791\n",
      "2585  2353.453988  N  0.641538\n",
      "2586  2354.095526  N  0.678079\n",
      "2587  2354.773605  N       NaN\n",
      "\n",
      "[2588 rows x 3 columns]\n"
     ]
    }
   ],
   "source": [
    "print(DataSet.RTops)"
   ]
  },
  {
   "cell_type": "code",
   "execution_count": null,
   "id": "6ee98778-077d-4bc0-9436-f1c25e0a7f47",
   "metadata": {},
   "outputs": [],
   "source": []
  }
 ],
 "metadata": {
  "extensions": {
   "jupyter_dashboards": {
    "activeView": "grid_default",
    "version": 1,
    "views": {
     "grid_default": {
      "cellMargin": 2,
      "defaultCellHeight": 40,
      "maxColumns": 12,
      "name": "grid",
      "type": "grid"
     }
    }
   }
  },
  "kernelspec": {
   "display_name": "Python 3 (ipykernel)",
   "language": "python",
   "name": "python3"
  },
  "language_info": {
   "codemirror_mode": {
    "name": "ipython",
    "version": 3
   },
   "file_extension": ".py",
   "mimetype": "text/x-python",
   "name": "python",
   "nbconvert_exporter": "python",
   "pygments_lexer": "ipython3",
   "version": "3.12.3"
  }
 },
 "nbformat": 4,
 "nbformat_minor": 5
}
