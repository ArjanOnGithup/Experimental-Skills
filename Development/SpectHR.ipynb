{
 "cells": [
  {
   "cell_type": "markdown",
   "id": "2b15a9ff-54e8-4583-b172-16c029676d4e",
   "metadata": {
    "extensions": {
     "jupyter_dashboards": {
      "activeView": "grid_default",
      "views": {
       "grid_default": {
        "col": null,
        "height": 2,
        "hidden": true,
        "locked": true,
        "row": null,
        "width": 2
       }
      }
     }
    }
   },
   "source": [
    "> **⚠️ CAUTION:**  \n",
    "> <p style=\"color: red;\">This project is work in progress. It can not be used for data analysis yet. Breathing and blood pressure data are totally untested/not yet implemented.</p>\n",
    "\n",
    "This project is mainly the introduction of an library. The idea is that library can be used without knowledge of `python` by using the App.\n",
    "\n",
    "# HRApp: An Interactive Heart Rate Variability (HRV) Analysis Tool\n",
    "\n",
    "## Overview\n",
    "\n",
    "The **HRApp** is an interactive tool designed to assist in the analysis of heart rate variability (HRV) data. It provides a graphical user interface (GUI) within Jupyter Notebooks to explore, preprocess, and visualize HRV data. The app organizes its features into multiple tabs, each focusing on a specific aspect of HRV analysis.\n",
    "\n",
    "## Features\n",
    "\n",
    "1. **PreProcessing Tab**  \n",
    "   - Provides tools to preprocess HRV data, such as cleaning and inspecting inter-beat intervals (IBI).\n",
    "   - Displays a customizable GUI for manipulating the dataset.\n",
    "\n",
    "2. **Poincare Tab**  \n",
    "   - Visualizes HRV data using Poincaré plots, which highlight the relationships between successive IBIs.\n",
    "   - Ideal for assessing nonlinear dynamics in heart rate data.\n",
    "\n",
    "3. **Descriptives Tab**  \n",
    "   - Computes detailed descriptive statistics for IBIs, grouped by epochs.\n",
    "   - Includes metrics such as mean, standard deviation, RMSSD, SDNN, SD1, SD2, and others.\n",
    "   - Integrates power spectral density (PSD) results into the statistics, if available.\n",
    "\n",
    "4. **PSD Tab**  \n",
    "   - Uses Welch's method to compute power spectral density (PSD) for HRV data.\n",
    "   - Groups PSD results by epochs, providing insights into the frequency domain features of HRV.\n",
    "\n",
    "5. **Epochs Tab**  \n",
    "   - Visualizes epochs of HRV data using a Gantt chart.\n",
    "   - Offers a clear representation of time-based data segmentation.\n"
   ]
  },
  {
   "cell_type": "code",
   "execution_count": 1,
   "id": "608e45cb-3487-4150-b1b9-801e6a4362a7",
   "metadata": {
    "editable": true,
    "extensions": {
     "jupyter_dashboards": {
      "activeView": "grid_default",
      "views": {
       "grid_default": {
        "col": null,
        "height": 2,
        "hidden": true,
        "locked": true,
        "row": null,
        "width": 2
       }
      }
     }
    },
    "slideshow": {
     "slide_type": ""
    },
    "tags": []
   },
   "outputs": [
    {
     "data": {
      "application/vnd.jupyter.widget-view+json": {
       "model_id": "813d01c1c01f4eefa3d541bab2bdba97",
       "version_major": 2,
       "version_minor": 0
      },
      "text/plain": [
       "Output(layout=Layout(border_bottom='1px solid black', border_left='1px solid black', border_right='1px solid b…"
      ]
     },
     "metadata": {},
     "output_type": "display_data"
    }
   ],
   "source": [
    "import spectHR as cs\n",
    "# include matplotlib **only** to set the style\n",
    "import matplotlib.pyplot as plt\n",
    "\n",
    "%matplotlib widget\n",
    "plt.style.use('seaborn-v0_8-colorblind')\n",
    "\n",
    "# Create the Log Output here:\n",
    "cs.handler.show_logs()"
   ]
  },
  {
   "cell_type": "markdown",
   "id": "77733e08-552c-4fab-869d-6abb37c5380d",
   "metadata": {
    "extensions": {
     "jupyter_dashboards": {
      "activeView": "grid_default",
      "views": {
       "grid_default": {
        "col": null,
        "height": 2,
        "hidden": true,
        "locked": true,
        "row": null,
        "width": 2
       }
      }
     }
    }
   },
   "source": [
    "# Demo\n",
    "\n",
    "## Dataset loading:\n",
    "\n",
    "Data that can be loaded are for now restricted to the [`xdf`](https://github.com/sccn/xdf) type used by [`labstreaminglayer`](https://labstreaminglayer.readthedocs.io/info/intro.html). The data tested are all recorded using the [`labrecorder`](https://github.com/labstreaminglayer/App-LabRecorder/releases), and streamed with the [`polarGUI`](https://github.com/markspan/PolarBand2lsl/releases/tag/v1.0.0) utility that streams data from the Polar H10 Band. Markers should be a seperate stream, with start- and stop markers. In the demo they are streamed through python inline code in [`opensesame`](https://osdoc.cogsci.nl/4.0/download). \n",
    "\n",
    "The call to `borderData` cuts the data from 1 second before the first marker, to one second after the last marker. To do any meaningfull analysis, the call to `calcPeaks` is mandatory: it attaches the DataFrame 'RTops' to hte DataSet. \n"
   ]
  },
  {
   "cell_type": "code",
   "execution_count": 2,
   "id": "f5cbc7fb-e9eb-49bb-a572-6a48029ccf86",
   "metadata": {
    "extensions": {
     "jupyter_dashboards": {
      "activeView": "grid_default",
      "views": {
       "grid_default": {
        "col": null,
        "height": 2,
        "hidden": true,
        "locked": true,
        "row": null,
        "width": 2
       }
      }
     }
    }
   },
   "outputs": [
    {
     "ename": "OSError",
     "evalue": "Invalid XDF file data.txt",
     "output_type": "error",
     "traceback": [
      "\u001b[1;31m---------------------------------------------------------------------------\u001b[0m",
      "\u001b[1;31mOSError\u001b[0m                                   Traceback (most recent call last)",
      "Cell \u001b[1;32mIn[2], line 2\u001b[0m\n\u001b[0;32m      1\u001b[0m \u001b[38;5;66;03m#DataSet = cs.SpectHRDataset(\"SUB_013.xdf\", use_webdav=True, reset = False, flip = 'auto')\u001b[39;00m\n\u001b[1;32m----> 2\u001b[0m DataSet \u001b[38;5;241m=\u001b[39m cs\u001b[38;5;241m.\u001b[39mSpectHRDataset(\u001b[38;5;124m\"\u001b[39m\u001b[38;5;124mdata.txt\u001b[39m\u001b[38;5;124m\"\u001b[39m, flip \u001b[38;5;241m=\u001b[39m \u001b[38;5;124m'\u001b[39m\u001b[38;5;124mauto\u001b[39m\u001b[38;5;124m'\u001b[39m)\n\u001b[0;32m      3\u001b[0m DataSet \u001b[38;5;241m=\u001b[39m cs\u001b[38;5;241m.\u001b[39mborderData(DataSet)\n\u001b[0;32m      4\u001b[0m DataSet \u001b[38;5;241m=\u001b[39m cs\u001b[38;5;241m.\u001b[39mfilterECGData(DataSet, {\u001b[38;5;124m\"\u001b[39m\u001b[38;5;124mfilterType\u001b[39m\u001b[38;5;124m\"\u001b[39m: \u001b[38;5;124m\"\u001b[39m\u001b[38;5;124mhighpass\u001b[39m\u001b[38;5;124m\"\u001b[39m, \u001b[38;5;124m\"\u001b[39m\u001b[38;5;124mcutoff\u001b[39m\u001b[38;5;124m\"\u001b[39m: \u001b[38;5;241m1\u001b[39m})\n",
      "File \u001b[1;32m~\\Documents\\GitHub\\Experimental-Skills\\Development\\spectHR\\DataSet\\SpectHRDataset.py:138\u001b[0m, in \u001b[0;36mSpectHRDataset.__init__\u001b[1;34m(self, filename, ecg_index, br_index, event_index, par, reset, use_webdav, flip)\u001b[0m\n\u001b[0;32m    136\u001b[0m \u001b[38;5;28;01melif\u001b[39;00m Path(\u001b[38;5;28mself\u001b[39m\u001b[38;5;241m.\u001b[39mfile_path)\u001b[38;5;241m.\u001b[39mexists():\n\u001b[0;32m    137\u001b[0m     logger\u001b[38;5;241m.\u001b[39minfo(\u001b[38;5;124mf\u001b[39m\u001b[38;5;124m\"\u001b[39m\u001b[38;5;124mLoading dataset from XDF: \u001b[39m\u001b[38;5;132;01m{\u001b[39;00m\u001b[38;5;28mself\u001b[39m\u001b[38;5;241m.\u001b[39mfile_path\u001b[38;5;132;01m}\u001b[39;00m\u001b[38;5;124m\"\u001b[39m)\n\u001b[1;32m--> 138\u001b[0m     \u001b[38;5;28mself\u001b[39m\u001b[38;5;241m.\u001b[39mloadData(\u001b[38;5;28mself\u001b[39m\u001b[38;5;241m.\u001b[39mfile_path, ecg_index, br_index, event_index, flip\u001b[38;5;241m=\u001b[39mflip)\n\u001b[0;32m    139\u001b[0m     \u001b[38;5;28mself\u001b[39m\u001b[38;5;241m.\u001b[39msave()\n\u001b[0;32m    140\u001b[0m \u001b[38;5;28;01melse\u001b[39;00m:\n",
      "File \u001b[1;32m~\\Documents\\GitHub\\Experimental-Skills\\Development\\spectHR\\DataSet\\SpectHRDataset.py:176\u001b[0m, in \u001b[0;36mSpectHRDataset.loadData\u001b[1;34m(self, filename, ecg_index, br_index, bp_index, event_index, flip)\u001b[0m\n\u001b[0;32m    166\u001b[0m \u001b[38;5;28;01mdef\u001b[39;00m \u001b[38;5;21mloadData\u001b[39m(\u001b[38;5;28mself\u001b[39m, filename, ecg_index\u001b[38;5;241m=\u001b[39m\u001b[38;5;28;01mNone\u001b[39;00m, br_index\u001b[38;5;241m=\u001b[39m\u001b[38;5;28;01mNone\u001b[39;00m, bp_index\u001b[38;5;241m=\u001b[39m\u001b[38;5;28;01mNone\u001b[39;00m, event_index\u001b[38;5;241m=\u001b[39m\u001b[38;5;28;01mNone\u001b[39;00m, flip \u001b[38;5;241m=\u001b[39m \u001b[38;5;124m'\u001b[39m\u001b[38;5;124mauto\u001b[39m\u001b[38;5;124m'\u001b[39m):\n\u001b[0;32m    167\u001b[0m \u001b[38;5;250m    \u001b[39m\u001b[38;5;124;03m\"\"\"\u001b[39;00m\n\u001b[0;32m    168\u001b[0m \u001b[38;5;124;03m    Loads data from an XDF file into the dataset.\u001b[39;00m\n\u001b[0;32m    169\u001b[0m \n\u001b[1;32m   (...)\u001b[0m\n\u001b[0;32m    174\u001b[0m \u001b[38;5;124;03m        event_index (int, optional): Index of the event stream in the XDF file. Defaults to None.\u001b[39;00m\n\u001b[0;32m    175\u001b[0m \u001b[38;5;124;03m    \"\"\"\u001b[39;00m\n\u001b[1;32m--> 176\u001b[0m     rawdata, _ \u001b[38;5;241m=\u001b[39m pyxdf\u001b[38;5;241m.\u001b[39mload_xdf(filename)\n\u001b[0;32m    178\u001b[0m     \u001b[38;5;66;03m# Identify ECG stream automatically if not provided: \u001b[39;00m\n\u001b[0;32m    179\u001b[0m     \u001b[38;5;28;01mif\u001b[39;00m ecg_index \u001b[38;5;129;01mis\u001b[39;00m \u001b[38;5;28;01mNone\u001b[39;00m:\n",
      "File \u001b[1;32m~\\AppData\\Local\\anaconda3\\envs\\Start\\Lib\\site-packages\\pyxdf\\pyxdf.py:229\u001b[0m, in \u001b[0;36mload_xdf\u001b[1;34m(filename, select_streams, on_chunk, synchronize_clocks, handle_clock_resets, dejitter_timestamps, jitter_break_threshold_seconds, jitter_break_threshold_samples, clock_reset_threshold_seconds, clock_reset_threshold_stds, clock_reset_threshold_offset_seconds, clock_reset_threshold_offset_stds, winsor_threshold, verbose)\u001b[0m\n\u001b[0;32m    226\u001b[0m \u001b[38;5;66;03m# XML content of the file header chunk\u001b[39;00m\n\u001b[0;32m    227\u001b[0m fileheader \u001b[38;5;241m=\u001b[39m \u001b[38;5;28;01mNone\u001b[39;00m\n\u001b[1;32m--> 229\u001b[0m \u001b[38;5;28;01mwith\u001b[39;00m open_xdf(filename) \u001b[38;5;28;01mas\u001b[39;00m f:\n\u001b[0;32m    230\u001b[0m     \u001b[38;5;66;03m# for each chunk\u001b[39;00m\n\u001b[0;32m    231\u001b[0m     \u001b[38;5;28;01mwhile\u001b[39;00m \u001b[38;5;28;01mTrue\u001b[39;00m:\n\u001b[0;32m    232\u001b[0m         \u001b[38;5;66;03m# noinspection PyBroadException\u001b[39;00m\n\u001b[0;32m    233\u001b[0m         \u001b[38;5;28;01mtry\u001b[39;00m:\n\u001b[0;32m    234\u001b[0m             \u001b[38;5;66;03m# read [NumLengthBytes], [Length]\u001b[39;00m\n",
      "File \u001b[1;32m~\\AppData\\Local\\anaconda3\\envs\\Start\\Lib\\site-packages\\pyxdf\\pyxdf.py:430\u001b[0m, in \u001b[0;36mopen_xdf\u001b[1;34m(file)\u001b[0m\n\u001b[0;32m    428\u001b[0m         f \u001b[38;5;241m=\u001b[39m \u001b[38;5;28mopen\u001b[39m(\u001b[38;5;28mstr\u001b[39m(filename), \u001b[38;5;124m\"\u001b[39m\u001b[38;5;124mrb\u001b[39m\u001b[38;5;124m\"\u001b[39m)\n\u001b[0;32m    429\u001b[0m \u001b[38;5;28;01mif\u001b[39;00m f\u001b[38;5;241m.\u001b[39mread(\u001b[38;5;241m4\u001b[39m) \u001b[38;5;241m!=\u001b[39m \u001b[38;5;124mb\u001b[39m\u001b[38;5;124m\"\u001b[39m\u001b[38;5;124mXDF:\u001b[39m\u001b[38;5;124m\"\u001b[39m:  \u001b[38;5;66;03m# magic bytes\u001b[39;00m\n\u001b[1;32m--> 430\u001b[0m     \u001b[38;5;28;01mraise\u001b[39;00m \u001b[38;5;167;01mIOError\u001b[39;00m(\u001b[38;5;124m\"\u001b[39m\u001b[38;5;124mInvalid XDF file \u001b[39m\u001b[38;5;132;01m{}\u001b[39;00m\u001b[38;5;124m\"\u001b[39m\u001b[38;5;241m.\u001b[39mformat(file))\n\u001b[0;32m    431\u001b[0m \u001b[38;5;28;01mreturn\u001b[39;00m f\n",
      "\u001b[1;31mOSError\u001b[0m: Invalid XDF file data.txt"
     ]
    }
   ],
   "source": [
    "#DataSet = cs.SpectHRDataset(\"SUB_013.xdf\", use_webdav=True, reset = False, flip = 'auto')\n",
    "DataSet = cs.SpectHRDataset(\"data.txt\", flip = 'auto')\n",
    "DataSet = cs.borderData(DataSet)\n",
    "DataSet = cs.filterECGData(DataSet, {\"filterType\": \"highpass\", \"cutoff\": 1})\n",
    "if not hasattr(DataSet, 'RTops'):\n",
    "    DataSet = cs.calcPeaks(DataSet)"
   ]
  },
  {
   "cell_type": "markdown",
   "id": "7441461c-a360-48c4-b406-85d9b531c75c",
   "metadata": {
    "extensions": {
     "jupyter_dashboards": {
      "activeView": "grid_default",
      "views": {
       "grid_default": {
        "col": null,
        "height": 2,
        "hidden": true,
        "locked": true,
        "row": null,
        "width": 2
       }
      }
     }
    }
   },
   "source": [
    "## Running the App\n",
    "\n",
    "Call the app, with the dataset as input. "
   ]
  },
  {
   "cell_type": "code",
   "execution_count": null,
   "id": "9a424636-5650-4ded-953e-80ec2ddcc111",
   "metadata": {
    "extensions": {
     "jupyter_dashboards": {
      "activeView": "grid_default",
      "views": {
       "grid_default": {
        "col": 0,
        "height": 23,
        "hidden": false,
        "locked": true,
        "row": 0,
        "width": 12
       }
      }
     }
    }
   },
   "outputs": [],
   "source": [
    "App = cs.HRApp(DataSet)"
   ]
  },
  {
   "cell_type": "code",
   "execution_count": null,
   "id": "dbc01754-27fd-4c3c-a7c2-3fcb53b84b91",
   "metadata": {},
   "outputs": [],
   "source": []
  }
 ],
 "metadata": {
  "extensions": {
   "jupyter_dashboards": {
    "activeView": "grid_default",
    "version": 1,
    "views": {
     "grid_default": {
      "cellMargin": 0,
      "defaultCellHeight": 40,
      "maxColumns": 12,
      "name": "spectHR",
      "type": "grid"
     }
    }
   }
  },
  "kernelspec": {
   "display_name": "Python 3 (ipykernel)",
   "language": "python",
   "name": "python3"
  },
  "language_info": {
   "codemirror_mode": {
    "name": "ipython",
    "version": 3
   },
   "file_extension": ".py",
   "mimetype": "text/x-python",
   "name": "python",
   "nbconvert_exporter": "python",
   "pygments_lexer": "ipython3",
   "version": "3.12.3"
  }
 },
 "nbformat": 4,
 "nbformat_minor": 5
}
