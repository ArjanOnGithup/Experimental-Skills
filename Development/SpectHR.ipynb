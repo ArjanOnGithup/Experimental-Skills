{
 "cells": [
  {
   "cell_type": "markdown",
   "id": "2b15a9ff-54e8-4583-b172-16c029676d4e",
   "metadata": {
    "extensions": {
     "jupyter_dashboards": {
      "activeView": "grid_default",
      "views": {
       "grid_default": {
        "col": null,
        "height": 2,
        "hidden": true,
        "locked": true,
        "row": null,
        "width": 2
       }
      }
     }
    }
   },
   "source": [
    "> **⚠️ CAUTION:**  \n",
    "> <p style=\"color: red;\">This project is work in progress. It can not be used for data analysis yet. Breathing and blood pressure data are totally untested/not yet implemented.</p>\n",
    "\n",
    "This project is mainly the introduction of an library. The idea is that library can be used without knowledge of `python` by using the App.\n",
    "\n",
    "# HRApp: An Interactive Heart Rate Variability (HRV) Analysis Tool\n",
    "\n",
    "## Overview\n",
    "\n",
    "The **HRApp** is an interactive tool designed to assist in the analysis of heart rate variability (HRV) data. It provides a graphical user interface (GUI) within Jupyter Notebooks to explore, preprocess, and visualize HRV data. The app organizes its features into multiple tabs, each focusing on a specific aspect of HRV analysis.\n",
    "\n",
    "## Features\n",
    "\n",
    "1. **PreProcessing Tab**  \n",
    "   - Provides tools to preprocess HRV data, such as cleaning and inspecting inter-beat intervals (IBI).\n",
    "   - Displays a customizable GUI for manipulating the dataset.\n",
    "\n",
    "2. **Poincare Tab**  \n",
    "   - Visualizes HRV data using Poincaré plots, which highlight the relationships between successive IBIs.\n",
    "   - Ideal for assessing nonlinear dynamics in heart rate data.\n",
    "\n",
    "3. **Descriptives Tab**  \n",
    "   - Computes detailed descriptive statistics for IBIs, grouped by epochs.\n",
    "   - Includes metrics such as mean, standard deviation, RMSSD, SDNN, SD1, SD2, and others.\n",
    "   - Integrates power spectral density (PSD) results into the statistics, if available.\n",
    "\n",
    "4. **PSD Tab**  \n",
    "   - Uses Welch's method to compute power spectral density (PSD) for HRV data.\n",
    "   - Groups PSD results by epochs, providing insights into the frequency domain features of HRV.\n",
    "\n",
    "5. **Epochs Tab**  \n",
    "   - Visualizes epochs of HRV data using a Gantt chart.\n",
    "   - Offers a clear representation of time-based data segmentation.\n",
    "\n",
    "## How It Works\n",
    "\n",
    "### Inputs\n",
    "- **Dataset**: The app requires a dataset containing HRV-related data, such as IBIs, epochs, and other time-series information. This dataset is expected to support operations defined in the `spectHR` library.\n",
    "\n",
    "### Workflow\n",
    "1. **Launch the App**  \n",
    "   Call the `HRApp(DataSet)` function with the appropriate dataset as input. This displays the GUI with five tabs.\n",
    "   \n",
    "2. **Switch Between Tabs**  \n",
    "   Navigate through tabs to explore different aspects of HRV analysis. The selected tab dynamically updates its content:\n",
    "   - Preprocessing tools in the **PreProcessing** tab.\n",
    "   - Poincaré plot in the **Poincare** tab.\n",
    "   - Statistical summaries in the **Descriptives** tab.\n",
    "   - PSD analysis in the **PSD** tab.\n",
    "   - Epoch visualizations in the **Epochs** tab.\n",
    "\n",
    "3. **Real-Time Updates**  \n",
    "   The app dynamically updates visualizations and calculations as you interact with each tab. Outputs are recalculated and displayed in real-time.\n",
    "\n",
    "4. **Data Saving**  \n",
    "   Changes to the dataset, such as computed statistics or PSD values, are saved automatically.\n",
    "\n",
    "### Outputs\n",
    "- Visualizations (e.g., plots, charts) for exploring HRV dynamics.\n",
    "- Computed metrics and summaries for HRV data.\n",
    "- Processed datasets ready for further analysis.\n",
    "\n",
    "## Dependencies\n",
    "\n",
    "- **Python Libraries**:  \n",
    "  - `ipywidgets`: For interactive UI elements.\n",
    "  - `spectHR`: Custom library for HRV preprocessing and analysis.\n",
    "  - `pyhrv`: For HRV metrics calculation.\n",
    "  - `pandas`: For data manipulation and statistics.\n",
    "\n",
    "- **Environment**:  \n",
    "  - Jupyter Notebook or JupyterLab (preferred) for running and displaying the app.\n",
    "\n",
    "## Example Usage\n"
   ]
  },
  {
   "cell_type": "code",
   "execution_count": 7,
   "id": "608e45cb-3487-4150-b1b9-801e6a4362a7",
   "metadata": {
    "editable": true,
    "extensions": {
     "jupyter_dashboards": {
      "activeView": "grid_default",
      "views": {
       "grid_default": {
        "col": null,
        "height": 2,
        "hidden": true,
        "locked": true,
        "row": null,
        "width": 2
       }
      }
     }
    },
    "slideshow": {
     "slide_type": ""
    },
    "tags": []
   },
   "outputs": [
    {
     "data": {
      "application/vnd.jupyter.widget-view+json": {
       "model_id": "1797513b8a38412da0b9f85a5893e306",
       "version_major": 2,
       "version_minor": 0
      },
      "text/plain": [
       "Output(layout=Layout(border_bottom='1px solid black', border_left='1px solid black', border_right='1px solid b…"
      ]
     },
     "metadata": {},
     "output_type": "display_data"
    }
   ],
   "source": [
    "import spectHR as cs\n",
    "import matplotlib.pyplot as plt\n",
    "%matplotlib widget\n",
    "plt.style.use('ggplot')\n",
    "cs.handler.show_logs()"
   ]
  },
  {
   "cell_type": "code",
   "execution_count": 9,
   "id": "f5cbc7fb-e9eb-49bb-a572-6a48029ccf86",
   "metadata": {
    "extensions": {
     "jupyter_dashboards": {
      "activeView": "grid_default",
      "views": {
       "grid_default": {
        "col": null,
        "height": 2,
        "hidden": true,
        "locked": true,
        "row": null,
        "width": 2
       }
      }
     }
    }
   },
   "outputs": [],
   "source": [
    "DataSet = cs.SpectHRDataset(\"SUB_005.xdf\", use_webdav=True, reset = False)\n",
    "DataSet = cs.borderData(DataSet)\n",
    "DataSet = cs.filterECGData(DataSet, {\"filterType\": \"highpass\", \"cutoff\": .50})\n",
    "if not hasattr(DataSet, 'RTops'):\n",
    "    DataSet = cs.calcPeaks(DataSet)"
   ]
  },
  {
   "cell_type": "code",
   "execution_count": 11,
   "id": "9a424636-5650-4ded-953e-80ec2ddcc111",
   "metadata": {
    "extensions": {
     "jupyter_dashboards": {
      "activeView": "grid_default",
      "views": {
       "grid_default": {
        "col": 0,
        "height": 23,
        "hidden": false,
        "locked": true,
        "row": 0,
        "width": 12
       }
      }
     }
    }
   },
   "outputs": [
    {
     "data": {
      "application/vnd.jupyter.widget-view+json": {
       "model_id": "cb727c2c37e84f4c94167273dda9a13a",
       "version_major": 2,
       "version_minor": 0
      },
      "text/plain": [
       "Tab(children=(Output(), Output(), Output(), Output(), Output()), selected_index=0, titles=('PreProcessing', 'P…"
      ]
     },
     "metadata": {},
     "output_type": "display_data"
    }
   ],
   "source": [
    "App = cs.HRApp(DataSet)"
   ]
  },
  {
   "cell_type": "code",
   "execution_count": null,
   "id": "62ec31a5-b6f6-4805-bfc3-5741aebcf2d7",
   "metadata": {},
   "outputs": [],
   "source": []
  }
 ],
 "metadata": {
  "extensions": {
   "jupyter_dashboards": {
    "activeView": "grid_default",
    "version": 1,
    "views": {
     "grid_default": {
      "cellMargin": 0,
      "defaultCellHeight": 40,
      "maxColumns": 12,
      "name": "spectHR",
      "type": "grid"
     }
    }
   }
  },
  "kernelspec": {
   "display_name": "Python 3 (ipykernel)",
   "language": "python",
   "name": "python3"
  },
  "language_info": {
   "codemirror_mode": {
    "name": "ipython",
    "version": 3
   },
   "file_extension": ".py",
   "mimetype": "text/x-python",
   "name": "python",
   "nbconvert_exporter": "python",
   "pygments_lexer": "ipython3",
   "version": "3.12.7"
  }
 },
 "nbformat": 4,
 "nbformat_minor": 5
}
