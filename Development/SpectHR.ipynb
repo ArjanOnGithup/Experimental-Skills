{
 "cells": [
  {
   "cell_type": "code",
   "execution_count": null,
   "id": "6730ca40-d2d9-4756-bf70-112fd12f2d39",
   "metadata": {
    "editable": true,
    "extensions": {
     "jupyter_dashboards": {
      "activeView": "grid_default",
      "views": {
       "grid_default": {
        "col": 0,
        "height": 3,
        "hidden": true,
        "locked": true,
        "row": 0,
        "width": 12
       }
      }
     }
    },
    "slideshow": {
     "slide_type": ""
    },
    "tags": []
   },
   "outputs": [],
   "source": [
    "import spectHR as cs\n",
    "import pyhrv\n",
    "from ipywidgets import Tab, Output"
   ]
  },
  {
   "cell_type": "code",
   "execution_count": null,
   "id": "5e275f5f-da3b-4ed2-bb1c-5909ec820cf6",
   "metadata": {
    "editable": true,
    "extensions": {
     "jupyter_dashboards": {
      "activeView": "grid_default",
      "views": {
       "grid_default": {
        "col": null,
        "height": 2,
        "hidden": true,
        "locked": true,
        "row": null,
        "width": 2
       }
      }
     }
    },
    "slideshow": {
     "slide_type": ""
    },
    "tags": []
   },
   "outputs": [],
   "source": [
    "cs.handler.show_logs()"
   ]
  },
  {
   "cell_type": "code",
   "execution_count": null,
   "id": "4712a4a2-7168-446a-9a8d-2f10690ce4ea",
   "metadata": {
    "extensions": {
     "jupyter_dashboards": {
      "activeView": "grid_default",
      "views": {
       "grid_default": {
        "col": null,
        "height": 2,
        "hidden": true,
        "locked": true,
        "row": null,
        "width": 2
       }
      }
     }
    },
    "scrolled": true
   },
   "outputs": [],
   "source": [
    "DataSet = cs.SpectHRDataset(\"SUB_018.xdf\", use_webdav=True, reset = True)"
   ]
  },
  {
   "cell_type": "code",
   "execution_count": null,
   "id": "9eb99c71-c3eb-49bc-8182-40dcda417b76",
   "metadata": {
    "editable": true,
    "extensions": {
     "jupyter_dashboards": {
      "activeView": "grid_default",
      "views": {
       "grid_default": {
        "col": null,
        "height": 2,
        "hidden": true,
        "locked": true,
        "row": null,
        "width": 2
       }
      }
     }
    },
    "slideshow": {
     "slide_type": ""
    },
    "tags": []
   },
   "outputs": [],
   "source": [
    "DataSet = cs.borderData(DataSet)\n",
    "#DataSet.ecg = DataSet.ecg.slicetime(500, 570)"
   ]
  },
  {
   "cell_type": "code",
   "execution_count": null,
   "id": "0304164f-5e9b-43fb-a41a-6e2be4dd5e77",
   "metadata": {
    "editable": true,
    "extensions": {
     "jupyter_dashboards": {
      "activeView": "grid_default",
      "views": {
       "grid_default": {
        "col": null,
        "height": 2,
        "hidden": true,
        "locked": true,
        "row": null,
        "width": 2
       }
      }
     }
    },
    "slideshow": {
     "slide_type": ""
    },
    "tags": []
   },
   "outputs": [],
   "source": [
    "DataSet = cs.filterECGData(DataSet, {\"filterType\": \"highpass\", \"cutoff\": .50})"
   ]
  },
  {
   "cell_type": "code",
   "execution_count": null,
   "id": "63639526-8cef-4212-8955-aed0a5418fdb",
   "metadata": {
    "extensions": {
     "jupyter_dashboards": {
      "activeView": "grid_default",
      "views": {
       "grid_default": {
        "col": null,
        "height": 2,
        "hidden": true,
        "locked": true,
        "row": null,
        "width": 2
       }
      }
     }
    }
   },
   "outputs": [],
   "source": [
    "DataSet = cs.calcPeaks(DataSet)"
   ]
  },
  {
   "cell_type": "code",
   "execution_count": null,
   "id": "8ab0b98e-9886-41df-a5ee-0e2814efa978",
   "metadata": {
    "editable": true,
    "extensions": {
     "jupyter_dashboards": {
      "activeView": "grid_default",
      "views": {
       "grid_default": {
        "col": null,
        "height": 2,
        "hidden": true,
        "locked": true,
        "row": null,
        "width": 2
       }
      }
     }
    },
    "slideshow": {
     "slide_type": ""
    },
    "tags": []
   },
   "outputs": [],
   "source": [
    "%matplotlib widget\n",
    "GUI = cs.prepPlot(DataSet, 500, 520)"
   ]
  },
  {
   "cell_type": "code",
   "execution_count": null,
   "id": "d08301ee",
   "metadata": {
    "editable": true,
    "extensions": {
     "jupyter_dashboards": {
      "activeView": "grid_default",
      "views": {
       "grid_default": {
        "col": 0,
        "height": 16,
        "hidden": true,
        "locked": true,
        "row": 0,
        "width": 12
       }
      }
     }
    },
    "slideshow": {
     "slide_type": ""
    },
    "tags": []
   },
   "outputs": [],
   "source": [
    "preProcessing =  Output()\n",
    "with preProcessing:\n",
    "    display(GUI)"
   ]
  },
  {
   "cell_type": "code",
   "execution_count": null,
   "id": "ac7d8d46-664d-46b5-9da9-82dea95521ba",
   "metadata": {
    "extensions": {
     "jupyter_dashboards": {
      "activeView": "grid_default",
      "views": {
       "grid_default": {
        "col": null,
        "height": 2,
        "hidden": true,
        "locked": true,
        "row": null,
        "width": 2
       }
      }
     }
    }
   },
   "outputs": [],
   "source": [
    "poincarePlot = Output()\n",
    "psdPlot = Output()\n",
    "descriptives = Output()\n",
    "Gantt = Output()"
   ]
  },
  {
   "cell_type": "code",
   "execution_count": null,
   "id": "7ff55b97-ee9e-47f5-80f4-fa12d0e6958f",
   "metadata": {
    "extensions": {
     "jupyter_dashboards": {
      "activeView": "grid_default",
      "views": {
       "grid_default": {
        "col": null,
        "height": 2,
        "hidden": true,
        "locked": true,
        "row": null,
        "width": 2
       }
      }
     }
    }
   },
   "outputs": [],
   "source": [
    "App = Tab(children=[preProcessing, poincarePlot, descriptives, psdPlot, Gantt])\n",
    "\n",
    "App.set_title(0, \"PreProcessing\")\n",
    "App.set_title(1, \"Poincare\")\n",
    "App.set_title(2, \"Descriptives\")\n",
    "App.set_title(3, \"PSD\")\n",
    "App.set_title(4, \"Epochs\")\n",
    "    \n",
    "def on_tab_change(change):\n",
    "    if change['name'] == 'selected_index':        \n",
    "        if change['new'] == 1:  # Poincare selected\n",
    "            with poincarePlot:\n",
    "                poincarePlot.clear_output()\n",
    "                display(cs.poincare(DataSet))\n",
    "            \n",
    "        if change['new'] == 2: # selected the descriptives tab\n",
    "            with descriptives:\n",
    "                descriptives.clear_output()\n",
    "                display(cs.explode(DataSet).groupby('epoch')['ibi'].agg([\n",
    "                    ('N', len),\n",
    "                    ('mean', 'mean'),\n",
    "                    ('std', 'std'),\n",
    "                    ('min', 'min'),\n",
    "                    ('max', 'max'),\n",
    "                    ('rmssd', lambda x: pyhrv.time_domain.rmssd(x)[0]),  # Extracting the first element\n",
    "                    ('sdnn', lambda x: pyhrv.time_domain.sdnn(x)[0]),\n",
    "                    ('sdsd', cs.Tools.Params.sdsd),\n",
    "                    ('sd1', cs.Tools.Params.sd1),\n",
    "                    ('sd2', cs.Tools.Params.sd2),\n",
    "                    ('sd_ratio', cs.Tools.Params.sd_ratio),\n",
    "                    ('ellipse_area', cs.ellipse_area)\n",
    "                ]))\n",
    "                \n",
    "        if change['new'] == 3:  # psd selected\n",
    "            with psdPlot:\n",
    "                psdPlot.clear_output()\n",
    "                display(cs.plot_psd(cs.explode(DataSet)))\n",
    "\n",
    "        if change['new'] == 4:  # gantt selected \n",
    "            with Gantt:\n",
    "                Gantt.clear_output()\n",
    "                display(cs.gantt(DataSet, labels=False))\n",
    "                \n",
    "    DataSet.save()\n",
    "                \n",
    "# Attach observer to detect tab switch\n",
    "App.observe(on_tab_change, names='selected_index')\n"
   ]
  },
  {
   "cell_type": "code",
   "execution_count": null,
   "id": "0cc17033-821a-49ef-80a9-070fbc84db7a",
   "metadata": {
    "extensions": {
     "jupyter_dashboards": {
      "activeView": "grid_default",
      "views": {
       "grid_default": {
        "col": 0,
        "height": 24,
        "hidden": false,
        "locked": true,
        "row": 0,
        "width": 12
       }
      }
     }
    }
   },
   "outputs": [],
   "source": [
    "display(App)"
   ]
  },
  {
   "cell_type": "code",
   "execution_count": null,
   "id": "5387c2ee-ba1d-4197-8355-1a8601d9f139",
   "metadata": {},
   "outputs": [],
   "source": []
  }
 ],
 "metadata": {
  "extensions": {
   "jupyter_dashboards": {
    "activeView": "grid_default",
    "version": 1,
    "views": {
     "grid_default": {
      "cellMargin": 0,
      "defaultCellHeight": 40,
      "maxColumns": 12,
      "name": "spectHR",
      "type": "grid"
     }
    }
   }
  },
  "kernelspec": {
   "display_name": "Python 3 (ipykernel)",
   "language": "python",
   "name": "python3"
  },
  "language_info": {
   "codemirror_mode": {
    "name": "ipython",
    "version": 3
   },
   "file_extension": ".py",
   "mimetype": "text/x-python",
   "name": "python",
   "nbconvert_exporter": "python",
   "pygments_lexer": "ipython3",
   "version": "3.12.7"
  }
 },
 "nbformat": 4,
 "nbformat_minor": 5
}
