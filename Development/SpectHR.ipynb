{
 "cells": [
  {
   "cell_type": "code",
   "execution_count": 2,
   "id": "6730ca40-d2d9-4756-bf70-112fd12f2d39",
   "metadata": {
    "editable": true,
    "extensions": {
     "jupyter_dashboards": {
      "activeView": "grid_default",
      "views": {
       "grid_default": {
        "col": 0,
        "height": 3,
        "hidden": false,
        "locked": true,
        "row": 0,
        "width": 12
       }
      }
     }
    },
    "slideshow": {
     "slide_type": ""
    },
    "tags": []
   },
   "outputs": [],
   "source": [
    "import spectHR as cs\n",
    "import pyhrv"
   ]
  },
  {
   "cell_type": "code",
   "execution_count": 3,
   "id": "4712a4a2-7168-446a-9a8d-2f10690ce4ea",
   "metadata": {
    "extensions": {
     "jupyter_dashboards": {
      "activeView": "grid_default",
      "views": {
       "grid_default": {
        "col": null,
        "height": 2,
        "hidden": true,
        "locked": true,
        "row": null,
        "width": 2
       }
      }
     }
    }
   },
   "outputs": [],
   "source": [
    "DataSet = cs.SpectHRDataset(\"Example Data/SUB_002.xdf\")"
   ]
  },
  {
   "cell_type": "code",
   "execution_count": 4,
   "id": "9eb99c71-c3eb-49bc-8182-40dcda417b76",
   "metadata": {
    "editable": true,
    "extensions": {
     "jupyter_dashboards": {
      "activeView": "grid_default",
      "views": {
       "grid_default": {
        "col": null,
        "height": 2,
        "hidden": true,
        "locked": true,
        "row": null,
        "width": 2
       }
      }
     }
    },
    "slideshow": {
     "slide_type": ""
    },
    "tags": []
   },
   "outputs": [],
   "source": [
    "DataSet = cs.borderData(DataSet)\n",
    "DataSet.ecg = DataSet.ecg.slicetime(500, 530)"
   ]
  },
  {
   "cell_type": "code",
   "execution_count": 5,
   "id": "0304164f-5e9b-43fb-a41a-6e2be4dd5e77",
   "metadata": {
    "editable": true,
    "extensions": {
     "jupyter_dashboards": {
      "activeView": "grid_default",
      "views": {
       "grid_default": {
        "col": null,
        "height": 2,
        "hidden": true,
        "locked": true,
        "row": null,
        "width": 2
       }
      }
     }
    },
    "slideshow": {
     "slide_type": ""
    },
    "tags": []
   },
   "outputs": [],
   "source": [
    "DataSet = cs.filterECGData(DataSet, {\"filterType\": \"highpass\", \"cutoff\": .50})"
   ]
  },
  {
   "cell_type": "code",
   "execution_count": 6,
   "id": "63639526-8cef-4212-8955-aed0a5418fdb",
   "metadata": {
    "extensions": {
     "jupyter_dashboards": {
      "activeView": "grid_default",
      "views": {
       "grid_default": {
        "col": null,
        "height": 2,
        "hidden": true,
        "locked": true,
        "row": null,
        "width": 2
       }
      }
     }
    }
   },
   "outputs": [],
   "source": [
    "DataSet = cs.calcPeaks(DataSet)"
   ]
  },
  {
   "cell_type": "code",
   "execution_count": 7,
   "id": "8ab0b98e-9886-41df-a5ee-0e2814efa978",
   "metadata": {
    "editable": true,
    "extensions": {
     "jupyter_dashboards": {
      "activeView": "grid_default",
      "views": {
       "grid_default": {
        "col": null,
        "height": 2,
        "hidden": true,
        "locked": true,
        "row": null,
        "width": 2
       }
      }
     }
    },
    "slideshow": {
     "slide_type": ""
    },
    "tags": []
   },
   "outputs": [],
   "source": [
    "%matplotlib widget\n",
    "GUI = cs.prepPlot(DataSet)"
   ]
  },
  {
   "cell_type": "code",
   "execution_count": 8,
   "id": "d08301ee",
   "metadata": {
    "editable": true,
    "extensions": {
     "jupyter_dashboards": {
      "activeView": "grid_default",
      "views": {
       "grid_default": {
        "col": 0,
        "height": 16,
        "hidden": false,
        "locked": true,
        "row": 3,
        "width": 12
       }
      }
     }
    },
    "slideshow": {
     "slide_type": ""
    },
    "tags": []
   },
   "outputs": [
    {
     "data": {
      "application/vnd.jupyter.widget-view+json": {
       "model_id": "59d39b82c52f4621a9019d07e45769ea",
       "version_major": 2,
       "version_minor": 0
      },
      "text/plain": [
       "AppLayout(children=(HBox(children=(Select(class_='ma-2', color='primary', items=['Drag', 'Add', 'Find', 'Remov…"
      ]
     },
     "metadata": {},
     "output_type": "display_data"
    }
   ],
   "source": [
    "display(GUI)"
   ]
  },
  {
   "cell_type": "code",
   "execution_count": 9,
   "id": "5e275f5f-da3b-4ed2-bb1c-5909ec820cf6",
   "metadata": {
    "editable": true,
    "slideshow": {
     "slide_type": ""
    },
    "tags": []
   },
   "outputs": [
    {
     "data": {
      "application/vnd.jupyter.widget-view+json": {
       "model_id": "897030faddb34b3d803e7ecb7c9bd11b",
       "version_major": 2,
       "version_minor": 0
      },
      "text/plain": [
       "Output(layout=Layout(border_bottom='1px solid black', border_left='1px solid black', border_right='1px solid b…"
      ]
     },
     "metadata": {},
     "output_type": "display_data"
    }
   ],
   "source": [
    "cs.handler.show_logs()"
   ]
  },
  {
   "cell_type": "code",
   "execution_count": null,
   "id": "5e063948-a7cf-40ec-8148-eec716d74f80",
   "metadata": {
    "editable": true,
    "slideshow": {
     "slide_type": ""
    },
    "tags": []
   },
   "outputs": [],
   "source": []
  }
 ],
 "metadata": {
  "extensions": {
   "jupyter_dashboards": {
    "activeView": "grid_default",
    "version": 1,
    "views": {
     "grid_default": {
      "cellMargin": 2,
      "defaultCellHeight": 40,
      "maxColumns": 12,
      "name": "grid",
      "type": "grid"
     }
    }
   }
  },
  "kernelspec": {
   "display_name": "Python 3 (ipykernel)",
   "language": "python",
   "name": "python3"
  },
  "language_info": {
   "codemirror_mode": {
    "name": "ipython",
    "version": 3
   },
   "file_extension": ".py",
   "mimetype": "text/x-python",
   "name": "python",
   "nbconvert_exporter": "python",
   "pygments_lexer": "ipython3",
   "version": "3.12.7"
  }
 },
 "nbformat": 4,
 "nbformat_minor": 5
}
