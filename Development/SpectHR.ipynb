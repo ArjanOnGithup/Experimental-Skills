{
 "cells": [
  {
   "cell_type": "code",
   "execution_count": 1,
   "id": "a12db575-625c-4a99-bd68-39db72aaf893",
   "metadata": {},
   "outputs": [],
   "source": [
    "#!pip install pyhrv"
   ]
  },
  {
   "cell_type": "code",
   "execution_count": 2,
   "id": "6730ca40-d2d9-4756-bf70-112fd12f2d39",
   "metadata": {},
   "outputs": [
    {
     "ename": "SyntaxError",
     "evalue": "closing parenthesis ')' does not match opening parenthesis '[' (Spectplot.py, line 240)",
     "output_type": "error",
     "traceback": [
      "Traceback \u001b[1;36m(most recent call last)\u001b[0m:\n",
      "\u001b[0m  File \u001b[0;32m~\\AppData\\Local\\anaconda3\\envs\\Start\\Lib\\site-packages\\IPython\\core\\interactiveshell.py:3577\u001b[0m in \u001b[0;35mrun_code\u001b[0m\n    exec(code_obj, self.user_global_ns, self.user_ns)\u001b[0m\n",
      "\u001b[0m  Cell \u001b[0;32mIn[2], line 1\u001b[0m\n    import spectHR as cs\u001b[0m\n",
      "\u001b[1;36m  File \u001b[1;32m~\\Documents\\GitHub\\Experimental-Skills\\Development\\spectHR\\__init__.py:3\u001b[1;36m\n\u001b[1;33m    from spectHR.Plots.Spectplot import spectplot\u001b[1;36m\n",
      "\u001b[1;36m  File \u001b[1;32m~\\Documents\\GitHub\\Experimental-Skills\\Development\\spectHR\\Plots\\Spectplot.py:240\u001b[1;36m\u001b[0m\n\u001b[1;33m    idx = data.ecg.RTopTimes[(pd.Series(data.ecg.classID) == 'S') & (data.ecg.RTopTimes < x_min -  (.51*x_range)))]\u001b[0m\n\u001b[1;37m                                                                                                                 ^\u001b[0m\n\u001b[1;31mSyntaxError\u001b[0m\u001b[1;31m:\u001b[0m closing parenthesis ')' does not match opening parenthesis '['\n"
     ]
    }
   ],
   "source": [
    "import spectHR as cs\n",
    "import pyhrv"
   ]
  },
  {
   "cell_type": "code",
   "execution_count": null,
   "id": "4712a4a2-7168-446a-9a8d-2f10690ce4ea",
   "metadata": {},
   "outputs": [],
   "source": [
    "DataSet = cs.SpectHRDataset(\"Example Data/SUB_002.xdf\", 1, event_index = 0) "
   ]
  },
  {
   "cell_type": "code",
   "execution_count": null,
   "id": "9eb99c71-c3eb-49bc-8182-40dcda417b76",
   "metadata": {
    "editable": true,
    "slideshow": {
     "slide_type": ""
    },
    "tags": []
   },
   "outputs": [],
   "source": [
    "bDataSet = cs.borderData(DataSet)\n",
    "bDataSet.ecg = bDataSet.ecg.slicetime(500,2100)"
   ]
  },
  {
   "cell_type": "code",
   "execution_count": null,
   "id": "0304164f-5e9b-43fb-a41a-6e2be4dd5e77",
   "metadata": {
    "editable": true,
    "slideshow": {
     "slide_type": ""
    },
    "tags": []
   },
   "outputs": [],
   "source": [
    "fDataSet = cs.filterECGData(bDataSet, \n",
    "                          {'filterType': 'highpass', \n",
    "                           'cutoff': 1})"
   ]
  },
  {
   "cell_type": "code",
   "execution_count": null,
   "id": "63f63ea6-2468-4e56-8569-941ce7ab323f",
   "metadata": {
    "editable": true,
    "slideshow": {
     "slide_type": ""
    },
    "tags": []
   },
   "outputs": [],
   "source": [
    "tDataSet = cs.calcPeaks(bDataSet)"
   ]
  },
  {
   "cell_type": "code",
   "execution_count": null,
   "id": "8ab0b98e-9886-41df-a5ee-0e2814efa978",
   "metadata": {
    "editable": true,
    "slideshow": {
     "slide_type": ""
    },
    "tags": []
   },
   "outputs": [],
   "source": [
    "%matplotlib widget\n",
    "GUI = cs.spectplot(tDataSet, 860, 890)"
   ]
  },
  {
   "cell_type": "code",
   "execution_count": null,
   "id": "d08301ee",
   "metadata": {},
   "outputs": [],
   "source": [
    "GUI"
   ]
  },
  {
   "cell_type": "code",
   "execution_count": null,
   "id": "2c02bf3b-a629-4a56-bf88-5b5830e80d5f",
   "metadata": {},
   "outputs": [],
   "source": []
  }
 ],
 "metadata": {
  "kernelspec": {
   "display_name": "Python 3 (ipykernel)",
   "language": "python",
   "name": "python3"
  },
  "language_info": {
   "codemirror_mode": {
    "name": "ipython",
    "version": 3
   },
   "file_extension": ".py",
   "mimetype": "text/x-python",
   "name": "python",
   "nbconvert_exporter": "python",
   "pygments_lexer": "ipython3",
   "version": "3.12.7"
  }
 },
 "nbformat": 4,
 "nbformat_minor": 5
}
