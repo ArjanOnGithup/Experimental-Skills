{
 "cells": [
  {
   "cell_type": "code",
   "execution_count": null,
   "id": "e1916303-d064-4ef6-8748-2815d7e848e1",
   "metadata": {
    "editable": true,
    "extensions": {
     "jupyter_dashboards": {
      "activeView": "grid_default",
      "views": {
       "grid_default": {
        "col": null,
        "height": 2,
        "hidden": true,
        "locked": true,
        "row": null,
        "width": 2
       }
      }
     }
    },
    "slideshow": {
     "slide_type": ""
    },
    "tags": []
   },
   "outputs": [],
   "source": [
    "import spectHR as cs\n",
    "import pyhrv\n",
    "from ipywidgets import Tab, Output\n",
    "import matplotlib.pyplot as plt\n",
    "import pandas as pd\n",
    "\n",
    "plt.style.use('ggplot')\n",
    "cs.handler.show_logs()"
   ]
  },
  {
   "cell_type": "code",
   "execution_count": null,
   "id": "f5cbc7fb-e9eb-49bb-a572-6a48029ccf86",
   "metadata": {
    "extensions": {
     "jupyter_dashboards": {
      "activeView": "grid_default",
      "views": {
       "grid_default": {
        "col": null,
        "height": 2,
        "hidden": true,
        "locked": true,
        "row": null,
        "width": 2
       }
      }
     }
    }
   },
   "outputs": [],
   "source": [
    "DataSet = cs.SpectHRDataset(\"SUB_018.xdf\", use_webdav=True, reset = False)\n",
    "DataSet = cs.borderData(DataSet)\n",
    "DataSet = cs.filterECGData(DataSet, {\"filterType\": \"highpass\", \"cutoff\": .50})\n",
    "if not hasattr(DataSet, 'RTops'):\n",
    "    DataSet = cs.calcPeaks(DataSet)"
   ]
  },
  {
   "cell_type": "code",
   "execution_count": null,
   "id": "4673004f-f915-475f-a094-5d45ab8bf0f2",
   "metadata": {
    "extensions": {
     "jupyter_dashboards": {
      "activeView": "grid_default",
      "views": {
       "grid_default": {
        "col": 0,
        "height": 24,
        "hidden": false,
        "locked": true,
        "row": 0,
        "width": 12
       }
      }
     }
    }
   },
   "outputs": [],
   "source": [
    "%matplotlib widget\n",
    "GUI = cs.prepPlot(DataSet)\n",
    "\n",
    "preProcessing =  Output()\n",
    "with preProcessing:\n",
    "    display(GUI)\n",
    "\n",
    "poincarePlot = Output()\n",
    "psdPlot = Output()\n",
    "descriptives = Output()\n",
    "Gantt = Output()\n",
    "\n",
    "import pandas as pd\n",
    "\n",
    "App = Tab(children=[preProcessing, poincarePlot, descriptives, psdPlot, Gantt])\n",
    "\n",
    "App.set_title(0, \"PreProcessing\")\n",
    "App.set_title(1, \"Poincare\")\n",
    "App.set_title(2, \"Descriptives\")\n",
    "App.set_title(3, \"PSD\")\n",
    "App.set_title(4, \"Epochs\")\n",
    "\n",
    "# This function is called everytime a tab is selected in the App. The value of change['new'] holds the index to the selected tab.\n",
    "def on_tab_change(change):\n",
    "    if change['name'] == 'selected_index':        \n",
    "        if change['new'] == 1:  # Poincare selected\n",
    "            with poincarePlot:\n",
    "                poincarePlot.clear_output()\n",
    "                display(cs.poincare(DataSet))\n",
    "            \n",
    "        if change['new'] == 2: # selected the descriptives tab\n",
    "            with descriptives:\n",
    "                descriptives.clear_output()\n",
    "                display(cs.explode(DataSet)\n",
    "                        .groupby('epoch')['ibi']\n",
    "                        .agg([\n",
    "                            ('N', len),\n",
    "                            ('mean', 'mean'),\n",
    "                            ('std', 'std'),\n",
    "                            ('min', 'min'),\n",
    "                            ('max', 'max'),\n",
    "                            ('rmssd', lambda x: pyhrv.time_domain.rmssd(x)[0]),  # Extracting the first element\n",
    "                            ('sdnn', lambda x: pyhrv.time_domain.sdnn(x)[0]),\n",
    "                            ('sdsd', cs.Tools.Params.sdsd),\n",
    "                            ('sd1', cs.Tools.Params.sd1),\n",
    "                            ('sd2', cs.Tools.Params.sd2),\n",
    "                            ('sd_ratio', cs.Tools.Params.sd_ratio),\n",
    "                            ('ellipse_area', cs.ellipse_area)\n",
    "                        ]))\n",
    "                \n",
    "        if change['new'] == 3:  # psd selected\n",
    "            with psdPlot:\n",
    "                psdPlot.clear_output()    \n",
    "                Data = cs.explode(DataSet)\n",
    "                psd_Parameters = Data.groupby('epoch')[Data.columns.tolist()].apply(cs.welch_psd)\n",
    "                display(psd_Parameters)\n",
    "\n",
    "        if change['new'] == 4:  # gantt selected \n",
    "            with Gantt:\n",
    "                Gantt.clear_output()\n",
    "                display(cs.gantt(DataSet, labels=False))\n",
    "                \n",
    "    DataSet.save()\n",
    "                \n",
    "# Attach observer to detect tab switch\n",
    "App.observe(on_tab_change, names='selected_index')\n",
    "\n",
    "display(App)"
   ]
  },
  {
   "cell_type": "code",
   "execution_count": null,
   "id": "5387c2ee-ba1d-4197-8355-1a8601d9f139",
   "metadata": {},
   "outputs": [],
   "source": [
    "cs.welch_psd(DataSet.RTops, interpolate = True)\n",
    "cs.welch_psd(DataSet.RTops, interpolate = False)"
   ]
  },
  {
   "cell_type": "code",
   "execution_count": null,
   "id": "80a99c9d-9957-46eb-9143-c0ab06bdacce",
   "metadata": {},
   "outputs": [],
   "source": [
    "psd_Parameters"
   ]
  },
  {
   "cell_type": "code",
   "execution_count": null,
   "id": "04323b3c-2301-4caf-ac09-43430402ada8",
   "metadata": {},
   "outputs": [],
   "source": []
  }
 ],
 "metadata": {
  "extensions": {
   "jupyter_dashboards": {
    "activeView": "grid_default",
    "version": 1,
    "views": {
     "grid_default": {
      "cellMargin": 0,
      "defaultCellHeight": 40,
      "maxColumns": 12,
      "name": "spectHR",
      "type": "grid"
     }
    }
   }
  },
  "kernelspec": {
   "display_name": "Python 3 (ipykernel)",
   "language": "python",
   "name": "python3"
  },
  "language_info": {
   "codemirror_mode": {
    "name": "ipython",
    "version": 3
   },
   "file_extension": ".py",
   "mimetype": "text/x-python",
   "name": "python",
   "nbconvert_exporter": "python",
   "pygments_lexer": "ipython3",
   "version": "3.12.7"
  }
 },
 "nbformat": 4,
 "nbformat_minor": 5
}
